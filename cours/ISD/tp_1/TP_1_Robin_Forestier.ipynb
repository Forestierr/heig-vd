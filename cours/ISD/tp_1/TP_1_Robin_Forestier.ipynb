{
 "cells": [
  {
   "cell_type": "markdown",
   "id": "166b395a",
   "metadata": {},
   "source": [
    "# Tp 1\n",
    "\n",
    "Robin Forestier\n",
    "\n",
    "Le but de ce tp est de comptabiliser le pourcentage de nombre paire sur 1 million de nombre aléatoire en 1 et 10 (compris).\n"
   ]
  },
  {
   "cell_type": "code",
   "execution_count": 2,
   "id": "e8c40369",
   "metadata": {},
   "outputs": [],
   "source": [
    "# import\n",
    "import random"
   ]
  },
  {
   "cell_type": "code",
   "execution_count": 3,
   "id": "e4c86629",
   "metadata": {},
   "outputs": [],
   "source": [
    "# variable\n",
    "numberOfEven = 0\n",
    "result = 0"
   ]
  },
  {
   "cell_type": "raw",
   "id": "6db78a0e",
   "metadata": {},
   "source": [
    "Test du random."
   ]
  },
  {
   "cell_type": "code",
   "execution_count": 4,
   "id": "0eb43bb3",
   "metadata": {
    "scrolled": true
   },
   "outputs": [
    {
     "data": {
      "text/plain": [
       "5"
      ]
     },
     "execution_count": 4,
     "metadata": {},
     "output_type": "execute_result"
    }
   ],
   "source": [
    "random.randint(1, 10) # nombre aléatoire entre 1 et 10 (inclus)"
   ]
  },
  {
   "cell_type": "raw",
   "id": "cbf6c1be",
   "metadata": {},
   "source": [
    "Tirage des 1 millions de nombre aléatoire.\n",
    "Comparaison si les nombre sont divisible par 2.\n",
    "Et incrémentation de la variable \"numberOfEven\"."
   ]
  },
  {
   "cell_type": "code",
   "execution_count": 5,
   "id": "14aa9576",
   "metadata": {},
   "outputs": [],
   "source": [
    "for i in range(1000000):\n",
    "    if random.randint(1, 10) % 2:\n",
    "        numberOfEven = numberOfEven + 1"
   ]
  },
  {
   "cell_type": "raw",
   "id": "9c73fbea",
   "metadata": {},
   "source": [
    "Calcule du pourcentage de nombre paire."
   ]
  },
  {
   "cell_type": "code",
   "execution_count": 6,
   "id": "d4e33df8",
   "metadata": {},
   "outputs": [
    {
     "name": "stdout",
     "output_type": "stream",
     "text": [
      "49.9634 %\n"
     ]
    }
   ],
   "source": [
    "result = numberOfEven / 1000000 * 100\n",
    "print(result, \"%\")"
   ]
  },
  {
   "cell_type": "code",
   "execution_count": 12,
   "id": "d76c4bbc",
   "metadata": {},
   "outputs": [
    {
     "data": {
      "text/plain": [
       "[1, 3, 5, 7, 9, 12, 14, 16, 18, 20]"
      ]
     },
     "execution_count": 12,
     "metadata": {},
     "output_type": "execute_result"
    }
   ],
   "source": [
    "(list(range(1, 11, 2)) + list(range(12, 21, 2)))"
   ]
  }
 ],
 "metadata": {
  "kernelspec": {
   "display_name": "Python 3 (ipykernel)",
   "language": "python",
   "name": "python3"
  },
  "language_info": {
   "codemirror_mode": {
    "name": "ipython",
    "version": 3
   },
   "file_extension": ".py",
   "mimetype": "text/x-python",
   "name": "python",
   "nbconvert_exporter": "python",
   "pygments_lexer": "ipython3",
   "version": "3.9.12"
  }
 },
 "nbformat": 4,
 "nbformat_minor": 5
}
