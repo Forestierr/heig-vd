{
 "cells": [
  {
   "cell_type": "markdown",
   "id": "5f8bfb5c",
   "metadata": {},
   "source": [
    "# Introduction à la Science des données \n",
    "\n",
    "## Travail Pratique 01 – Introduction au langage de programmation Python et aux outils d'analyse de données \n",
    "\n",
    "### Table des matières\n",
    "\n",
    "[Partie 1: Bases de Python](#Partie-1:-Bases-de-Python)\n",
    "\n",
    "[Partie 2: NumPy](#Partie-2:-NumPy)\n",
    "\n",
    "[Partie 3: Introduction à Pandas](#Partie-3:-Introduction-à-Pandas)\n",
    "\n",
    "[Partie 4: MATPLOTLIB, Seaborn et le dataset Iris](#Partie-4:-MATPLOTLIB,-Seaborn-et-le-dataset-Iris)\n",
    "\n",
    "\n",
    "\n",
    "<div class=\"alert alert-block alert-success\">\n",
    "<b>Informations générales </b>\n",
    "</div>\n",
    "\n",
    "**Professeurs**: Carlos Andrés Peña-Reyes, Stephan Robert\n",
    "\n",
    "**Assistant(s)**: Thibault Schowing, Xavier Brochet\n",
    "\n",
    "**Contact**: prenom.nom@heig-vd.ch ou de préférence via Teams pour l'assistant\n",
    "\n",
    "**Rendu**:\n",
    "\n",
    "- Date: 16.10.2022, 23h55 (4 semaines)\n",
    "\n",
    "- Modalité: Travail individuel. Une fois complétées, copiez les réponses dans le ficher \"**TP1_ISD_SA2022_Reponses_Nom_Prenom.md**\" en remplaçant Nom et Prenom par les votres puis uploader votre fichier sur Cyberlearn.\n",
    "\n",
    "- Note: Ce TP est noté sur 6, pour un poids de 5%\n",
    "\n",
    "**Étudiant**:\n",
    "\n",
    "- Prénom Nom\n",
    "\n",
    "\n",
    "***\n",
    "\n",
    "\n",
    "<div class=\"alert alert-block alert-success\">\n",
    "<b>Objectifs </b>\n",
    "</div>\n",
    "\n",
    "Ce premier travail pratique vise à apprivoiser les bases de Python, ainsi qu'à découvrir les outils que nous allons utiliser pour la science des données. Dans les premiers labos, très peu de programmation vous sera demandée et le travail sera axé sur la compréhension des **Notebooks Ipython**, des **formats de données**, des librairies de manipulation des données **Numpy et Pandas** ainsi que de la librairie de visualisation **Matplotlib**. \n",
    "\n",
    "Ce premier travail pratique vous servira de point d'ancrage pour les bases qui seront utilisées tout au long du cours. Faites-le et refaites-le si nécessaire. Les bases seront considérées comme acquises à partir du Travail Pratique suivant.\n",
    "\n",
    "Sauf en cas d'oubli, après chaque question vous trouverez soit le texte \"*Réponse:*\" soit des détails concernant du code à compléter ou exécuter. Écrivez votre réponse après \"*Réponse:*\" directement en ajoutant votre texte à la cellule Markdown ou ajoutez-en une. Spécifiquement pour ce premier TP, vos réponses devront être compilées dans un fichier séparé mais pour les suivants vous devrez retourner le notebook dûement et proprement complété.\n",
    "\n",
    "\n",
    "<div class=\"alert alert-block alert-warning\">\n",
    "<b>Citez vos sources</b>\n",
    "</div>\n",
    "\n",
    "\n",
    "N'hésitez pas à utiliser des Cheat sheets et google pour (re)trouver rapidement des infos. Habituez vous aux sources fiables comme la documentation et les tutos officiels, puis migrez vers Stackoverflow pour les questions plus complexes. Si vous cherchez uniquement des informations sur la syntaxe, il n'y a pas besoin de citer vos sources. En revanche si vous trouvez des solutions complexes à certain problèmes, citez vos sources dans un commentaire dans le code par exemple. Cela vous permet d'éviter des accusations de **plagiat** (dont les conséquences ne se limitent pas juste à une mauvaise note) et vous permet surtout de retrouver d'où viennent vos solutions. Il est normal de chercher des solutions existantes à des problèmes courants afin de ne pas réinventer la roue trois fois par jour. \n",
    "\n",
    "\n",
    "<div class=\"alert alert-block alert-info\">\n",
    "<b>Documentation et cheat sheets</b>\n",
    "</div>\n",
    "\n",
    "En cas de besoin sur une fonction particulière, il vous est conseillé de commencer par chercher rapidement dans la documentation. Ci-dessous, vous avez les liens vers les documentations officielles des Packages que nous allons utiliser tout au long du semestre ainsi que **des liens vers des cheat sheets**. Les cheat sheets vous résument les différentes fonctions de manière très rapide. Nous vous conseillons fortement de garder ces cheat sheets à portée de main: c'est un bon aide mémoire et un excellent moyen de se replonger dans le contexte. Le site [Datacamp](https://www.datacamp.com/), site d'information et d'éducation à la science des données, fournit d'excellentes cheat sheets pour tous les outils ci-dessous et plus. Vous pouvez trouver ces cheat sheets [ici](https://www.utc.fr/~jlaforet/Suppl/python-cheatsheets.pdf) en un seul fichier pdf.\n",
    "\n",
    "#### Python\n",
    "\n",
    "La documentation de Python, dans notre cas la version 3.9, est disponible [ici](https://docs.python.org/3.9/). Étant donné qu'il s'agit des ressources du langage directement, elles sont très complètes pour ne pas dire trop complètes pour notre cas. Dans ces deux prochains labos nous allons utiliser d'autres ressources, comme le site [https://www.w3schools.com/](https://www.w3schools.com/) qui propose des tutoriels et exercices plus ciblés. Vous pouvez trouver une Cheat Sheet en ligne sur [https://www.pythoncheatsheet.org/](https://www.pythoncheatsheet.org/). Vous pourrez retrouver rapidement des infos sur les bases, les structures de données (listes, dictionnaires, etc) et bien d'autres sujets.\n",
    "\n",
    "\n",
    "\n",
    "#### NumPy\n",
    "\n",
    "La documentation est disponible sur le site [numpy.org](https://numpy.org/doc/1.22/user/absolute_beginners.html). \n",
    "\n",
    "#### Pandas\n",
    "\n",
    "La documentation est disponible sur le site [pandas.pydata.org](https://pandas.pydata.org/). Vous pouvez y trouver entre autre une [intro en 10 minutes](https://pandas.pydata.org/docs/user_guide/10min.html) qui résume très bien l'utilisation de Pandas pour manipuler des données. \n",
    "\n",
    "\n",
    "#### Matplotlib\n",
    "\n",
    "La documentation est diponible sur le site [https://matplotlib.org/stable/index.html](https://matplotlib.org/stable/index.html). Vous pouvez aussi y trouver des tutoriels, des [exemples et idées](https://matplotlib.org/stable/gallery/index.html) et bien d'autres informations. \n",
    "\n",
    "\n",
    "#### Seaborn\n",
    "\n",
    "La documentation ainsi que des exemples sont disponibles sur le site [https://seaborn.pydata.org/](https://seaborn.pydata.org/). \n",
    "\n",
    "\n",
    "\n",
    "\n",
    "<div class=\"alert alert-block alert-info\">\n",
    "<b>Tutos vidéo</b>\n",
    "</div>\n",
    "\n",
    "#### Python scientifique\n",
    "\n",
    "Vous êtes plutôt du genre vidéos que documentation ? Afin d'éviter de vous perdre sur les centaines, voir milliers, de vidéos existantes sur le sujet, je vous conseille [cette vidéo en Anglais](https://www.youtube.com/watch?v=r-uOLxNrNk8) qui regroupe tout ces sujets en (tout de même) 4h, avec des examples et exercices. Si vous préférez des vidéos en français, [cette playlist](https://www.youtube.com/watch?v=82KLS2C_gNQ&list=PLO_fdPEVlfKqMDNmCFzQISI2H_nJcEDJq) contient énormément de vidéos avec un niveau allant des bases de Python, NumPy et Matplotlib, à un niveau très complexe. A vous de faire le tri selon vos besoins !\n",
    "\n",
    "#### Statistiques et théorie\n",
    "\n",
    "Dans ce cours et ces travaux pratiques, nous aborderons des bases de statistique et d'apprentissage automatique. Le but est de garder le bagage théorique le plus léger possible tout en le rendant le plus ludique et concret possible. Si certains concepts s'avèrent trop compliqués ou ont besoin d'un raffraichissement voici quelques chaines Youtube qui vous aideront grandement et pas seulement pour ce cours: \n",
    "\n",
    "- [Crash Course - Statistics](https://www.youtube.com/watch?v=zouPoc49xbk&list=PL8dPuuaLjXtNM_Y-bUAhblSAdWRnmBUcr), Playlist de vidéos courtes sur la statistique pour rapidement voir l'essentiel. Fortement recommandée pour une bonne introduction à la statistique !\n",
    "- [3blue1brown](https://www.youtube.com/c/3blue1brown), Concerne plutôt les concepts mathématiques, de l'algèbre de base aux réseaux de neurones en passant par la théorie des probabilités.\n",
    "- [StatQuest with Josh Starmer](https://www.youtube.com/c/joshstarmer), Statistique et machine learning, certains algorithmes qui seront vu en cours sont très bien décrits. \n"
   ]
  },
  {
   "cell_type": "markdown",
   "id": "e4810926",
   "metadata": {},
   "source": [
    "<div class=\"alert alert-block alert-info\">\n",
    "<b>Rappel installation Anaconda et Jupyter notebook</b>\n",
    "</div>\n",
    "\n",
    "Si vous pouvez lire ce notebook, c'est qu'Anaconda et Jupyter sont déjà bien installés. \n",
    "\n",
    "Anaconda vous permet de créer rapidement et facilement des environnements avec la version de Python que vous désirez. [La doc](https://docs.conda.io/projects/conda/en/latest/user-guide/tasks/manage-python.html) vous donnera plein d’infos précises, mais pour faire court: [Cette vidéo](https://www.youtube.com/watch?v=6kXLUvsnhuI) vous explique en moins de 10 minutes comment utiliser Anaconda et Jupyter notebook, ainsi que comment pouvoir utiliser le bon kernel dans vos nouveaux notebook, car Jupyter ne va pas ajouter chaque environnement automatiquement aux Kernels disponibles. Les commandes sont résumées ci-dessous, et dans le cours.\n",
    "\n",
    " \n",
    "\n",
    "Pour résumer les premières étapes du labo, vous devez:\n",
    "\n",
    "Créer un environnement virtuel. Il s’agit simplement d’un répertoire (dans ~Anaconda3/envs) dans lequel il y aura un exécutable python et les libraires installées. Pour chaque environnement, un nouveau répertoire est créé. Ici on créé un environnement en spécifiant la version de python, et on l'appelle **isd**: \n",
    "\n",
    ">(base)Conda create --name **isd** python=3.9\n",
    "\n",
    "\n",
    "Activer cet environnement dans la console Anaconda Prompt va sélectionner cet exécutable et donc installer et utiliser les librairies qui dans cet environnement. L'environnement activé apparait dès lors entre parenthèse au lieu de *(base)*. \n",
    "\n",
    ">Conda activate **isd**\n",
    "\n",
    "Vous pouvez maintenant installer les notebooks. Normalement si vous avez installé Anaconda et pas miniconda, cette étape n'est pas utile:\n",
    "\n",
    ">(isd) conda install notebook\n",
    "\n",
    "Une fois l'installation terminée, lancez Jupyter (qui s’ouvre normalement automatiquement dans le navigateur). \n",
    "\n",
    ">(isd) Jupyter notebook \n",
    "\n",
    "Vous pouvez naviguer dans vos fichiers et créer un notebook avec “New” dans le répertoire courant. Vous voyez ici que vous avez uniquement “Python3” dans les kernels proposés et ceci si vous avez un exécutable Python dans votre path. Pour avoir accès à votre environnement virtuel créé ci-dessus, vous devez l’ajouter en tant que Kernel dans Jupyter. \n",
    " \n",
    "\n",
    "Dans la liste des Kernels disponibles, on voit qu'on n'en a aucun qui correspond à notre environnement. **Quittez jupyter** en cliquant sur **Quit** en haut à droite de la page, ce qui va interrompre le serveur. Vous pouvez aussi utiliser ctrl+c depuis Anaconda Prompt. \n",
    "\n",
    "\n",
    "Toujours dans l'*Anaconda Prompt* dans l’environnement virtuel isd (ou autre nom)\n",
    "\n",
    ">(isd) Pip install ipykernel\n",
    "\n",
    "Une fois ipykernel installé, on peut ajouter notre environnement en tant que kernel jupyter. En option, on peut choisir un nom d'affichage différent du nom de l'environnement comme ci-dessous avec l'option *--display-name*:\n",
    "\n",
    ">(isd) Python -m ipykernel install --user --name **isd** --display-name \"**isd-kernel**\"\n",
    "\n",
    "\n",
    "Vous pouvez relancer Jupyter depuis la console Anaconda Prompt ou depuis Anaconda Navigator et créer votre notebook où bon vous semble en cliquant sur \"new\" et en choissant le kernel que vous souhaitez. L’environnement/kernel “isd” devrait maintenant être disponible.\n",
    "\n",
    ">(isd) Jupyter notebook \n",
    "\n",
    "Dans la liste des kernels disponibles, on voit maintenant apparaitre notre environnement virtuel. Tout ce qui sera installé à l'intérieur de cet environnement, sera dorénavant accessible dans le notebook. Pour installer un nouveau package (par exemple numpy, pandas et matplotlib) dans notre environnement **isd**, il suffit dans un terminal de faire: \n",
    "\n",
    "\n",
    ">(isd) conda install numpy\n",
    "\n",
    ">(isd) conda install matplotlib\n",
    "\n",
    ">(isd) conda install pandas\n",
    "\n",
    ">(isd) conda install scikit-learn\n",
    "\n",
    "\n",
    "\n",
    "Alternativement on peut aussi installer des packages avec pip, selon leurs disponibilités. \n",
    "\n",
    "\n",
    "**Pour quitter/stopper Jupyter :**\n",
    "\n",
    "- depuis l'interface graphique, appuyez sur \"quit\" en haut à droite ou\n",
    "- depuis la console faites *ctrl+c* et confirmez si nécessaire.\n"
   ]
  },
  {
   "cell_type": "markdown",
   "id": "0320eab6",
   "metadata": {},
   "source": [
    "***\n",
    "# Partie 1: Bases de Python\n",
    "\n",
    "\n",
    "\n",
    "## 1.1 Langage de programmation python\n",
    "\n",
    "\n",
    "Le site w3schools.com vous propose une série d’exercices en ligne afin de mettre en pratique le langage de programmation Python et ainsi accomplir les premiers pas avec ce langage.\n",
    "\n",
    "Allez sur le site de [w3schools](https://www.w3schools.com/python/default.asp) et suivez les premières parties du tutoriel sur Python. Les exercices sont disponibles dans chaque section qui les concerne mais aussi directement [ici](https://www.w3schools.com/python/exercise.asp). Faites ceux concernant la syntaxe du langage, l’édition des commentaires, l’utilisation des variables et les différents types des données, l’utilisation des opérateurs arithmétiques et logiques, diverses structures des données, telles que les listes, tuples, sets et dictionnaires, les instructions de comparaison et des boucles, les fonctions et l’importation des modules. \n",
    "\n",
    "Les exercices sont simples: vous pouvez afficher les solutions et revenir en arrière ou éviter une section avec laquelle vous êtes déjà à l'aise. \n",
    "\n",
    "**Ne fait pas partie du labo: Les parties \"classes\" et \"inheritance\" et ce qui les suit.**\n",
    "\n",
    "\n",
    "Pour rapidement retrouver des informations sur le langage et éviter les frustrations, il vous est **fortement recommandé** d'utiliser des cheat sheets. Il existe des formats en ligne comme [https://www.pythoncheatsheet.org/](https://www.pythoncheatsheet.org/) qui vous seront très pratiques pour commencer. \n",
    "\n",
    "***\n"
   ]
  },
  {
   "cell_type": "markdown",
   "id": "4ebae482",
   "metadata": {},
   "source": [
    "## 1.2 Exemples et exercices\n",
    "\n",
    "On vous présente ici quelques exemples, le but est de comprendre les listes, les boucles *for* et la compréhension de liste (optimisation pour la création de liste). Un petit exercice suit chaque exemple. \n",
    "\n",
    "\n",
    "### Exemple 1\n",
    "\n",
    "On a ici une fonction qui reçoit en entrée un entier *n* et qui calcule la somme: $1 + 2^{2} + 3^{2} + ... + n^{2}$ en utilisant une **boucle for**:"
   ]
  },
  {
   "cell_type": "code",
   "execution_count": null,
   "id": "a28b22f1",
   "metadata": {},
   "outputs": [],
   "source": [
    "def func_A (n):\n",
    "    \n",
    "    result = 0   # La variable \"result\" est initialisée à 0 \n",
    "    for i in range(1, n+1): # Pour i = chaque valeur entre 1 et n...\n",
    "        result += (i ** 2) # A chaque itération on ajoute le carré de i à résult\n",
    "        \n",
    "    return result\n",
    "\n",
    "func_A(3)"
   ]
  },
  {
   "cell_type": "markdown",
   "id": "504c0400",
   "metadata": {},
   "source": [
    "Optimisation de l'exemple ci-dessus en utilisan la méthode **sum(liste)** qui retourne la somme des éléments d'une liste.\n",
    "\n",
    "Pour des contenus de boucle simple, on peut utiliser la compréhension de liste. Cette façon de faire est directement optimisée par Python et permet une bonne lisibilité (moins de lignes). Il vous est fortement conseillé d'utiliser directement cette notation afin de vous familiariser avec, cependant vous ne serez pas pénalisés si vous utilisez une boucle for classique. \n",
    "\n",
    "Structure pour la compréhension de liste : ```new_list = [function(item) for item in list if condition(item)]```"
   ]
  },
  {
   "cell_type": "code",
   "execution_count": null,
   "id": "eac93ec5",
   "metadata": {},
   "outputs": [],
   "source": [
    "def func_B(n):\n",
    "    return sum([i**2 for i in range(1, n+1)]) \n",
    "\n",
    "func_B(3)"
   ]
  },
  {
   "cell_type": "markdown",
   "id": "52760542",
   "metadata": {},
   "source": [
    "Il est possible d'ajouter des conditions (if) dans la boucle for comme ci-dessous:"
   ]
  },
  {
   "cell_type": "code",
   "execution_count": null,
   "id": "0933a50b",
   "metadata": {},
   "outputs": [],
   "source": [
    "def func_C(n):\n",
    "    \"\"\"Retourne la somme des chifres paires entre 1 et n\"\"\"\n",
    "    return sum([i for i in range(1, n+1) if i%2 == 0])\n",
    "\n",
    "func_C(4)"
   ]
  },
  {
   "cell_type": "markdown",
   "id": "dac57497",
   "metadata": {},
   "source": [
    "___\n",
    "### Exercices 1\n",
    "\n",
    "**1)** Ecrivez un script qui génère une liste contenant un million de valeurs entières aléatoires entre 1 et 10 (y compris) et qui calcule le pourcentage de valeurs paires dans cette liste. \n",
    " \n",
    "Aide: vous pouvez utiliser la méthode [random.randrange](https://www.w3schools.com/python/ref_random_randrange.asp) pour la génération de nombres aléatoires. Complétez le code ci-dessous."
   ]
  },
  {
   "cell_type": "code",
   "execution_count": null,
   "id": "6e491354",
   "metadata": {},
   "outputs": [],
   "source": [
    "## Code à compléter et à copier dans le fichier TP1_ISD_SA2022_Reponses_Nom_Prenom.md ##\n",
    "\n",
    "# Importation du module random. \n",
    "from random import randrange\n",
    "\n",
    "# Générer une liste de valeurs aléatoire\n",
    "\n",
    "\n",
    "# Générer une liste / compter les valeurs paires et calculer le pourcentage de ces valeurs. \n",
    "\n",
    "\n",
    "# Afficher le résultat\n",
    "\n"
   ]
  },
  {
   "cell_type": "markdown",
   "id": "db77d409",
   "metadata": {},
   "source": [
    "___\n",
    "### Exemple 2\n",
    "\n",
    "Création et manipulation des listes. But: comprendre les méthodes range() et la compréhension de liste avec conditions.\n",
    "\n",
    "La liste est une des structure de données que vous allez régulièrement utiliser. Regarder rapidement le chapitre sur les listes dans [la doc](https://www.w3schools.com/python/python_lists.asp) et n'hésitez pas à refaire rapidement quelques exercices sur le site [w3school](https://www.w3schools.com/python/exercise.asp). \n",
    "\n",
    "\n",
    "Voici plusieures manières de faire pour écrire script qui utilise les compréhensions de listes Python pour imprimer les carrés des entiers impairs plus petits ou égales à 10 et les carrés des entiers pairs plus grands que 10, mais plus petits que 21. \n",
    " \n",
    " C’est à dire : ```[1, 9, 25, 49, 81, 144, 196, 256, 324, 400]```\n",
    " \n"
   ]
  },
  {
   "cell_type": "code",
   "execution_count": null,
   "id": "c7a99726",
   "metadata": {},
   "outputs": [],
   "source": [
    "# solution 1\n",
    "\n",
    "[x**2 for x in (list(range(1, 11, 2)) + list(range(12, 21, 2)))]"
   ]
  },
  {
   "cell_type": "code",
   "execution_count": null,
   "id": "90b6d0b9",
   "metadata": {},
   "outputs": [],
   "source": [
    "# solution 2\n",
    "\n",
    "[x**2 for x in range(1, 21) if (((x <= 10) and (x % 2 != 0)) or ((x > 10) and (x % 2 == 0)))]"
   ]
  },
  {
   "cell_type": "code",
   "execution_count": null,
   "id": "1b4d95a3",
   "metadata": {},
   "outputs": [],
   "source": [
    "# solution 3\n",
    "\n",
    "[x**2 for x in range(1, 11, 2)] + [x**2 for x in range(12, 21, 2)]"
   ]
  },
  {
   "cell_type": "markdown",
   "id": "4d7fa881",
   "metadata": {},
   "source": [
    "_____\n",
    "\n",
    "### Exercice 2\n",
    "\n",
    "**2.1)** Décrivez avec vos mots et l'aide de la documentation les trois methodes décrites ci-dessus, leur différences et les fonctions utilisées. \n",
    "\n",
    "Ce qu'on attend c'est que vous montriez que vous avez bien compris la logique de ces différentes façon de faire, donc décrivez soigneusement les méthodes. E.g.: \"la méthode 1 compte d'abord le monbre de fraises avant de les ajouter aux listes puis concatène les deux listes, alors que la méthode 6 créé directement une liste en... \" "
   ]
  },
  {
   "cell_type": "markdown",
   "id": "bb0751f4",
   "metadata": {},
   "source": [
    "*Écrivez votre réponse ici*:\n",
    "\n"
   ]
  },
  {
   "cell_type": "markdown",
   "id": "dbc25e42",
   "metadata": {},
   "source": [
    "<div class=\"alert alert-block alert-info\">\n",
    "<b>Points obtenus: /5</b>\n",
    "</div>"
   ]
  },
  {
   "cell_type": "markdown",
   "id": "be79285e",
   "metadata": {},
   "source": [
    "**2.2)** A partir de la liste \"objets\" données ci-dessous, créez une liste contenant uniquement les mots de la première liste qui contiennent la lettre \"z\" ou \"Z\". "
   ]
  },
  {
   "cell_type": "code",
   "execution_count": null,
   "id": "f1ae7d18",
   "metadata": {},
   "outputs": [],
   "source": [
    "objets = [\"Canicule\",\n",
    "          \"Zoo\",\n",
    "          \"Prix béton 1981\",\n",
    "          \"Pancréas\",\n",
    "          \"Zebre\",\n",
    "          \"Jazz\",\n",
    "          \"Yverdon-les-Bains\"]\n"
   ]
  },
  {
   "cell_type": "code",
   "execution_count": null,
   "id": "d08aebfb",
   "metadata": {},
   "outputs": [],
   "source": [
    "## Code à compléter et à copier dans le fichier TP1_ISD_SA2022_Reponses_Nom_Prenom.md ##\n",
    "\n"
   ]
  },
  {
   "cell_type": "markdown",
   "id": "d80cb548",
   "metadata": {},
   "source": [
    "## 1.3 Les notebooks Jupyter\n",
    "\n",
    "Les notebook Jupyter sont à la fois une application Web interactive dans laquelle on peut **Ecrire et Exécuter** du code dans des cellules de type \"code\" mais aussi **Documenter** ses expériences grâce des cellules \"Markdown\". Le Markdown offre une syntax très simple à lire et à écrire pour mettre en page les documents. Il est aussi possible, dans les cellules de type Markdown, d'écrire des équations grâce au langage $ \\LaTeX $. \n",
    "\n",
    "Pour afficher le contenu original d'une cellule Markdown (par exemple celle-ci), double-cliquez dessus, pour afficher le Markdown non interprété, puis exécutez la cellule pour en afficher le contenu interprété (sélectionnez la cellule puis appuyer sur \"> Run\" en haut de la page ou faites *ctrl+Enter*).\n",
    "\n",
    "\n",
    "**En cas de problème avec votre environnement anaconda ou votre notebook, vous pouvez utiliser [Google Colab](https://colab.research.google.com/) pour créer et exécuter vos notebooks. Cependant, l'environnement virtuel étant supprimé après un certain laps de temps, vous devrez uploader vos fichiers à chaque fois, rendant cette solution peu pratique une fois que l'on utilise des fichiers locaux. (le notebook.ipynb peut être accessible depuis votre Google Drive. Vous devez avoir un compte Google.**"
   ]
  },
  {
   "cell_type": "markdown",
   "id": "04eee27c",
   "metadata": {},
   "source": [
    "#### Magic commands\n",
    "\n",
    "Jupyter fournit des [commandes spéciales](https://ipython.readthedocs.io/en/stable/interactive/magics.html) pour les cellules \"code\", précédées par \"%\" pour les commandes concernant une seule ligne, et \"%%\" pour les commandes concernant une cellule entière. Vous pouvez jeter un oeil à [cet article](https://www.aboutdatablog.com/post/top-8-magic-commands-in-jupyter-notebook) qui montre quelques une des commandes les plus utilisées. \n",
    "\n",
    "Vous serez sûrement confrontés à deux de ces commandes: \n",
    "\n",
    "- *%%timeit*, qui permet de mesurer le temps d'exécution d'une cellule, en l'exécutant plusieurs fois et en retournant une moyenne. Petit exemple ci-dessous.\n",
    "- *%matplotlib inline*, qui permet l'affichage des graphiques dans le notebook, et non comme un fichier image ouvert séparément. \n",
    "\n",
    "\n"
   ]
  },
  {
   "cell_type": "code",
   "execution_count": null,
   "id": "bd6568a6",
   "metadata": {
    "scrolled": true
   },
   "outputs": [],
   "source": [
    "%%timeit\n",
    "\n",
    "# Exemple avec %%timeit, qui doit être au début de la cellule\n",
    "\n",
    "\n",
    "\n",
    "j = 0\n",
    "for i in range(1000000):\n",
    "    j += 1\n",
    "\n",
    "print(j) # Notez qu'en cas d'affichage, il sera affiché autant de fois que la cellule est exécutée (ça prend de la place !)"
   ]
  },
  {
   "cell_type": "markdown",
   "id": "53de611d",
   "metadata": {},
   "source": [
    "___________"
   ]
  },
  {
   "cell_type": "markdown",
   "id": "53c682ec",
   "metadata": {},
   "source": [
    "_____\n",
    "\n",
    "# Partie 2: NumPy\n",
    "\n",
    "NumPy, pour Numerical Python, est une librairie permettant les calculs sur les matrices (tableaux multidimensionnels) de données. Elle est la base d'autres librairies spécialisées dans le calcul scientifique comme Scipy ou MatPlotlib par exemple, que nous allons régulièrement utiliser dans ce cours.  \n",
    "\n",
    "\n",
    "Afin de vous familiariser avec NumPy, suivez le tuto sur le site [w3schools](https://www.w3schools.com/python/numpy/default.asp). On vous demande de faire la partie \"Basics\" pour le moment et de répondre aux questions ci-dessous, basées sur ce tutoriel. Le tutoriel comprend des exercices accessibles dans les différentes sections du tutoriel concernées, ou directement [ici](https://www.w3schools.com/python/numpy/exercise.asp).\n",
    "\n",
    "N'oubliez pas d'installer NumPy dans votre environnement afin qu'il soit utilisable (import) dans votre notebook. "
   ]
  },
  {
   "cell_type": "markdown",
   "id": "00687f5d",
   "metadata": {},
   "source": [
    "## Questions NumPy\n",
    "\n",
    "1) Pourquoi utiliser NumPy ?\n",
    "\n",
    "Réponse:\n",
    "\n",
    "\n",
    "2) Comment s'appelle (n.b. \"de quel type est\") l'objet \"array\" dans NumPy et que signifie son nom ?\n",
    "\n",
    "Réponse:\n",
    "\n",
    "\n",
    "3) Pourquoi utiliser NumPy est-il plus rapide qu'utiliser les listes ?\n",
    "\n",
    "Réponse: \n",
    "\n",
    "\n",
    "4) A quelle question le code \"# Question 4\" ci-dessous répond-il ?\n",
    "\n",
    "Réponse:\n",
    "\n"
   ]
  },
  {
   "cell_type": "code",
   "execution_count": null,
   "id": "97ef65dd",
   "metadata": {},
   "outputs": [],
   "source": [
    "# QUESTION 4\n",
    "\n",
    "# INFO: Lorsque vous démarrez votre environnement vous n'avez besoin d'importer les modules qu'une seule fois. \n",
    "# les fonctions du module sont alors disponibles.\n",
    "\n",
    "import numpy as np \n",
    "\n",
    "arr = np.array([1, 2, 3, 4, 5])\n",
    "\n",
    "print(type(arr))"
   ]
  },
  {
   "cell_type": "markdown",
   "id": "fa8fd4f2",
   "metadata": {},
   "source": [
    "5) Affichez la somme des deux derniers éléments du tableau"
   ]
  },
  {
   "cell_type": "code",
   "execution_count": null,
   "id": "63d7c5f0",
   "metadata": {},
   "outputs": [],
   "source": [
    "## Code à compléter et à copier dans le fichier TP1_ISD_SA2022_Reponses_Nom_Prenom.md ##\n",
    "arr = np.array([1, 2, 3, 4, 5])\n",
    "\n"
   ]
  },
  {
   "cell_type": "markdown",
   "id": "ae61cc17",
   "metadata": {},
   "source": [
    "______\n",
    "\n",
    "# Partie 3: Introduction à Pandas\n",
    "\n",
    "Pour analyser des données, il va nous falloir un peu plus que des tableaux desquels on additionne les deux derniers nombres. C'est ici que commence le travail de Pandas. Pandas est un package Python, construit sur NumPy qui va nous permettre de charger, nettoyer, compléter, fusionner, visualiser, normaliser nos données, et encore bien d'autre. Pour faire très simple, on ajoute des noms et des types (entiers, flotants, textes, facteurs,...) aux colonnes de nos tableaux, et on joue avec. Le type de données principal auquel on va être confronté est \"DataFrame\". Pour vous familiariser avec ce nouveau package, suivez le tutoriel de [w3schools](https://www.w3schools.com/python/pandas/default.asp). Le tutoriel est relativement court, vous pouvez donc rapidement faire toutes les sections pour vous faire une idée de la faune de fonctions disponibles. \n",
    "\n",
    "## Questions Pandas\n",
    "\n",
    "\n"
   ]
  },
  {
   "cell_type": "markdown",
   "id": "a43e384f",
   "metadata": {},
   "source": [
    "**1) Pourquoi utiliser Pandas ?**\n",
    "\n",
    "Réponse: \n",
    "\n",
    "\n",
    "**2) Que peut faire pandas (d'après le tuto w3schools) ?**\n",
    "\n",
    "Réponse: \n",
    "\n",
    "\n",
    "**3) Que fait l'exemple \"Question 3\" ci-dessous ?**\n",
    "\n",
    "Réponse: \n",
    "\n",
    "\n",
    "**4) Compléter la cellule \"Question 4\" pour afficher les lignes demandées. Utiliser l'attribut *loc* comme décrit dans le tutoriel. Que remarquez vous concernant l'utilisation de simples crochets ([...]) ou doubles crochets ([[x,y]]) pour extraire _une_ colonne du dataframe ? En utilisant la fonction type(), donnez le type de données retournées avec les simples crochets ([...]) ou doubles crochets ([[x,y]]).**\n",
    "\n",
    "Réponse: \n",
    "\n",
    "**5) Complétez le code comme demandé dans la cellule \"Question 5 - exercice\". Extrait du tutoriel Pandas de w3school.**\n"
   ]
  },
  {
   "cell_type": "code",
   "execution_count": null,
   "id": "6194e685",
   "metadata": {},
   "outputs": [],
   "source": [
    "# Question 3 \n",
    "\n",
    "import pandas as pd # manière commune d'importer Pandas, sous l'Alias \"pd\".\n",
    "\n",
    "mydataset = {\n",
    "  'cars': [\"BMW\", \"Volvo\", \"Ford\"],\n",
    "  'passings': [3, 7, 2]\n",
    "}\n",
    "\n",
    "myvar = pd.DataFrame(mydataset)\n",
    "\n",
    "print(myvar)\n"
   ]
  },
  {
   "cell_type": "code",
   "execution_count": null,
   "id": "196370d2",
   "metadata": {},
   "outputs": [],
   "source": [
    "# Question 4\n",
    "## Code à compléter ##\n",
    "\n",
    "# Afficher la ligne qui concerne les Volvo\n",
    "\n",
    "\n",
    "print(\"---------------------\")\n",
    "\n",
    "# Afficher les deux dernières lignes du dataframe\n"
   ]
  },
  {
   "cell_type": "code",
   "execution_count": null,
   "id": "e4f18092",
   "metadata": {},
   "outputs": [],
   "source": [
    "# Question 5 - données\n",
    "\n",
    "# On lit les données directement depuis l'url. Un path vers le fichier (local) irait aussi.\n",
    "df = pd.read_csv(\"https://www.w3schools.com/python/pandas/dirtydata.csv.txt\")\n",
    "\n",
    "# Affiche notre petit DataFrame, vous pouvez changer entre \"df\" et \"print(df)\". Le premier est \n",
    "#  interprété directement par Jupyter qui l'affiche de manière beaucoup plus lisible. \n",
    "# print(df)\n",
    "df"
   ]
  },
  {
   "cell_type": "code",
   "execution_count": null,
   "id": "73591b71",
   "metadata": {},
   "outputs": [],
   "source": [
    "# Question 5 - exercice\n",
    "\n",
    "## Code à compléter et à copier dans le fichier TP1_ISD_SA2022_Reponses_Nom_Prenom.md ##\n",
    "\n",
    "# 1) Enlevez les données manquantes (NaN = Not a Number) et créez un nouveau dataframe appelé df_clean \n",
    "#    (n.b ne changez pas le dataframe original, n'utilisez pas *inplace=True*)\n",
    "#    n'hésitez pas à utiliser \"print(df_clean)\" pour voir les changements, mais déplacez-le / commentez-le\n",
    "#    pour ne pas encombrer l'affichage de votre cellule !\n",
    "\n",
    "\n",
    "\n",
    "\n",
    "# 2) La ligne 26 contient une date au mauvais format. Pour cela nous allons convertir la colonne \"Date\".\n",
    "#    Attention a bien faire cette opération sur df_clean et non sur df (modifiez par rapport au tutoriel). \n",
    "#    En cas de Warnings, vous pouvez l'ignorer.\n",
    "\n",
    "\n",
    "\n",
    "# 3) La valeur à la ligne 7 vous semble suspecte. Vous pouvez choisir de la remplacer par une valeur qui a plus de sense (45) \n",
    "#    ou vous pouvez simplement supprimer la ligne. Basez-vous toujours sur le tutoriel pour réaliser cette tâche. \n",
    "\n",
    "\n",
    "\n",
    "# Enfin on affiche notre dataframe propre et ses infos. Décommentez les \"print\" pour afficher le dataframe df_clean et ses infos\n",
    "\n",
    "print(\"\\n\\n===================== Dataframe ====================\\n\\n\")\n",
    "#print(df_clean)\n",
    "print(\"\\n\\n===================== Infos ====================\\n\\n\")\n",
    "#print(df_clean.info()) \n"
   ]
  },
  {
   "cell_type": "markdown",
   "id": "852c2342",
   "metadata": {},
   "source": []
  },
  {
   "cell_type": "markdown",
   "id": "e28f3e67",
   "metadata": {},
   "source": [
    "____\n",
    "\n",
    "# Partie 4: MATPLOTLIB, Seaborn et le dataset Iris\n",
    "\n",
    "\n",
    "Une fois qu'on a nos données bien organisées dans un DataFrame, on ne va pas s'arrêter à en sortir les moyennes, écart-types et autre concept statistique. On a besoin de les représenter de manière visuelle ! C'est ici que Matplotlib intervient. Suivez le tutoriel sur [w3schools](https://www.w3schools.com/python/matplotlib_intro.asp) jusqu'à la partie **Histograms** compris et répondez aux questions ci-dessous. \n",
    "\n",
    "\n"
   ]
  },
  {
   "cell_type": "markdown",
   "id": "1db14aad",
   "metadata": {},
   "source": [
    "**1) Pourquoi utiliser Matplotlib ?**\n",
    "\n",
    "*Réponse:*\n",
    "\n",
    "**2) Allez regarder la [gallerie des exemples](https://matplotlib.org/stable/gallery/index) de Matplotlib et regardez rapidement les 5 premières sections (jusqu'à la section \"*Pie and polar charts* compris\"). Choisissez 3 types de graphiques (Ou prenez les plus importants: Barchart, Boxplot et Scatterplot) et écrivez une courte description pour chaqu'un d'eux.**\n",
    "\n",
    "*Réponse:*\n",
    "\n",
    "**3) Le package scikit-learn fournit certain dataset connus comme [Iris](https://archive.ics.uci.edu/ml/datasets/iris), directement accessibles depuis le package une fois installé avec pip ou conda. Lisez rapidement la courte [page Wikipedia](https://fr.wikipedia.org/wiki/Iris_de_Fisher) le concernant. Pas besoin de s'attarder sur les concepts d'apprentissage statistiques, il s'agit juste de comprendre de quelles données on parle. Executez en suite le code ci-dessous en prenant soin de lire les descriptions en commentaire.**\n",
    "\n",
    "![asdf](https://machinelearninghd.com/wp-content/uploads/2021/03/iris-dataset.png)"
   ]
  },
  {
   "cell_type": "code",
   "execution_count": null,
   "id": "ab9a4f63",
   "metadata": {},
   "outputs": [],
   "source": [
    "# Question 3: Importation et visualisation du dataset \"Iris\" \n",
    "\n",
    "\n",
    "# Importer la fonction load_iris pour charger les données\n",
    "from sklearn.datasets import load_iris\n",
    "\n",
    "# Charger les données dans une variable avec la fonction load_iris() que l'on vient d'importer. \n",
    "raw_data = load_iris()"
   ]
  },
  {
   "cell_type": "code",
   "execution_count": null,
   "id": "44747a0a",
   "metadata": {},
   "outputs": [],
   "source": [
    "# Les données brutes retournées par la fonction load_iris() sont sous la forme d'un dictionnaire. On peut en voir\n",
    "#   les différentes sections avec la fonction attribut \"keys()\"\n",
    "\n",
    "# Ce qui nous intéresse le plus: les données (data), les noms de colonnes (feature_names) et \"target\" qui \n",
    "#   représente la variable de sortie, c'est-à-dire le nom de la variété de fleur, sous forme de classe (0, 1 ou 2).\n",
    "\n",
    "raw_data.keys()\n",
    "\n",
    "# Pour voir une section séparément, par exemple la description (DESCR), vous pouvez exécuter la ligne suivante:\n",
    "# print(raw_data['DESCR'])"
   ]
  },
  {
   "cell_type": "markdown",
   "id": "84970117",
   "metadata": {},
   "source": [
    "Création du DataFrame: "
   ]
  },
  {
   "cell_type": "code",
   "execution_count": null,
   "id": "05c3347a",
   "metadata": {},
   "outputs": [],
   "source": [
    "# Assembler les différentes parties qui nous intéressent, en premier les données en specifiant les noms de colonnes:\n",
    "\n",
    "data = pd.DataFrame(raw_data[\"data\"], columns=raw_data[\"feature_names\"])\n",
    "\n",
    "# Puis on ajoute la colonne \"class\" qui contient la variété. Il y a plusieurs façons de faire:\n",
    "\n",
    "#        Avec cette notation, on peut utiliser un mot clé python, ou mettre des espaces dans le nom de la colonne.\n",
    "#                |\n",
    "# data.loc[:, \"class\"] = raw_data[\"target\"]\n",
    "\n",
    "# Alternativement et de manière plus moderne et lisible on peut utiliser la méthode  assign() ci-dessous. \n",
    "# Le point est la notation qui sert à \"chainer\" des méthodes les unes après les autres sur un DataFrame.\n",
    "\n",
    "# Notez qu'on ne peut pas utiliser la nom \"class\" comme nom de colonne ici car c'est un mot clé Python. On utilise species\n",
    "#  à la place. \n",
    "#  Il est aussi impossible d'avoir des espaces dans le nom des variables.\n",
    "#  Garder la notation avec les guillemets '\"' peut donc s'avérer utile dans certain cas.\n",
    "\n",
    "\n",
    "#             Nouveau nom -> peut poser problème avec cette notation sans guillemets \n",
    "#                    |\n",
    "data = data.assign(species=raw_data[\"target\"])"
   ]
  },
  {
   "cell_type": "code",
   "execution_count": null,
   "id": "2b4ccaa3",
   "metadata": {},
   "outputs": [],
   "source": [
    "data"
   ]
  },
  {
   "cell_type": "markdown",
   "id": "0241a4ae",
   "metadata": {},
   "source": [
    "**Donnez rapidement une description contenu du dataset avec vos mots**\n",
    "\n",
    "\n",
    "*Réponse*: "
   ]
  },
  {
   "cell_type": "markdown",
   "id": "aff06dad",
   "metadata": {},
   "source": [
    "**4) Exécutez les cellules suivantes.**\n",
    "\n",
    "Ressources intéressante, contient des exemples et des tutos pour plusieurs langages: [GeeksForGeeks - Box plot and Histogram exploration on Iris data](https://www.geeksforgeeks.org/box-plot-and-histogram-exploration-on-iris-data/?ref=lbp). "
   ]
  },
  {
   "cell_type": "code",
   "execution_count": null,
   "id": "d8c547f2",
   "metadata": {},
   "outputs": [],
   "source": [
    "import matplotlib.pyplot as plt"
   ]
  },
  {
   "cell_type": "markdown",
   "id": "e2dc1962",
   "metadata": {},
   "source": [
    "##### Scatter plot"
   ]
  },
  {
   "cell_type": "code",
   "execution_count": null,
   "id": "b3e20e40",
   "metadata": {},
   "outputs": [],
   "source": [
    "%matplotlib inline \n",
    "\n",
    "# Magic Command: affiche et stock l'image générée dans le notebook et non dans un fichier à part\n",
    "#                    Normalement Jupyter le fait directement, donc pas grave en cas d'oubli.\n",
    "\n",
    "data.plot(kind =\"scatter\",\n",
    "          x ='sepal length (cm)',\n",
    "          y ='petal length (cm)')\n",
    "\n",
    "plt.grid()"
   ]
  },
  {
   "cell_type": "markdown",
   "id": "9165a628",
   "metadata": {},
   "source": [
    "##### Histograms"
   ]
  },
  {
   "cell_type": "code",
   "execution_count": null,
   "id": "5c7af92a",
   "metadata": {},
   "outputs": [],
   "source": [
    "# Source: https://www.geeksforgeeks.org/plotting-graph-for-iris-dataset-using-seaborn-and-matplotlib/\n",
    "plt.figure(figsize = (10, 7))\n",
    "x = data[\"sepal length (cm)\"]\n",
    "\n",
    "plt.hist(x, bins = 20, color = \"green\")\n",
    "plt.title(\"Sepal Length in cm\")\n",
    "plt.xlabel(\"Sepal_Length_cm\")\n",
    "plt.ylabel(\"Count\")\n"
   ]
  },
  {
   "cell_type": "code",
   "execution_count": null,
   "id": "adc7f6b6",
   "metadata": {},
   "outputs": [],
   "source": [
    "# Source: https://www.geeksforgeeks.org/plotting-graph-for-iris-dataset-using-seaborn-and-matplotlib/\n",
    "plt.figure(figsize = (10, 7))\n",
    "x = data[\"petal width (cm)\"]\n",
    "  \n",
    "plt.hist(x, bins = 20, color = \"blue\")\n",
    "plt.title(\"Petal Width in cm\")\n",
    "plt.xlabel(\"Petal_Width_cm\")\n",
    "plt.ylabel(\"Count\")\n",
    "  \n",
    "plt.show()"
   ]
  },
  {
   "cell_type": "markdown",
   "id": "cba21f8f",
   "metadata": {},
   "source": [
    "##### Boxplot - Boîte à moustache"
   ]
  },
  {
   "cell_type": "code",
   "execution_count": null,
   "id": "8b9593b7",
   "metadata": {},
   "outputs": [],
   "source": [
    "\n",
    "plt.figure(figsize = (10, 7))\n",
    "\n",
    "# On ne sélectionne que les données qui ont du sens pour être mises dans un boxplot.\n",
    "\n",
    "# Grâce à ce graphique, on peut observer la distribution des données, un peu comme avec un histogram, en ayant\n",
    "#  des information supplémentaires telles que l'asymétrie en affichant les quartiles et les moyennes des données,\n",
    "#  ainsi que les \"valeurs extrêmes\" représentées par des cercles. \n",
    "\n",
    "data[[\"sepal length (cm)\",\"sepal width (cm)\",\"petal length (cm)\",\"petal width (cm)\"]].boxplot()"
   ]
  },
  {
   "cell_type": "markdown",
   "id": "f83de0f7",
   "metadata": {},
   "source": [
    "**Remarques sur les graphiques ci-dessus:** Il est important de commencer par observer la distribution des données (petit rappel sur ce qu'est une distribution [en français](https://www.youtube.com/watch?v=bQaqzMNJv60) ou [en anglais (Crash Course)](https://www.youtube.com/watch?v=bPFNxD3Yg6U)). Avec les différents types de graphiques, on peut alors se faire une idée de ce à quoi les données ressemble. Plus on avance dans l'analyse de nos données, plus on va pouvoir complexifier l'analyse de nos données en mettant une variable en relation avec une autre, en utilisant plusieurs types de graphiques en même temps et en ajoutant des données plus complexes comme par exemple un coefficient de corrélation entre deux variables. \n",
    "\n",
    "Bien que cela soit tout à fait possible avec Matplotlib, la librairie *Seaborn* offre une alternative souvent plus agréable pour créer des graphiques complexes. "
   ]
  },
  {
   "cell_type": "markdown",
   "id": "8b86bd64",
   "metadata": {},
   "source": [
    "____\n",
    "## Seaborn\n",
    "\n",
    "Seaborn est une librairie construite sur Matplotlib qui fournit une interface plus haut niveau que Matplotlib. Pour faire court, c'est plus simple et plus beau, mais peut-être un peu moins flexible. \n",
    "\n",
    "\n",
    "\n",
    "\n",
    "**Exécutez et observer les cellules suivantes.**\n",
    "\n",
    "C'est tout ce qui vous sera demandé pour cette partie, observez et "
   ]
  },
  {
   "cell_type": "code",
   "execution_count": null,
   "id": "b5224f9f",
   "metadata": {},
   "outputs": [],
   "source": [
    "import seaborn as sns"
   ]
  },
  {
   "cell_type": "code",
   "execution_count": null,
   "id": "26cdede4",
   "metadata": {},
   "outputs": [],
   "source": [
    "# Source: https://www.geeksforgeeks.org/plotting-graph-for-iris-dataset-using-seaborn-and-matplotlib/\n",
    "# style used as a theme of graph\n",
    "# for example if we want black\n",
    "# graph with grid then write \"darkgrid\"\n",
    "sns.set_style(\"whitegrid\")\n",
    " \n",
    "# sepal_length, petal_length are iris\n",
    "# feature data height used to define\n",
    "# Height of graph whereas hue store the\n",
    "# class of iris dataset.\n",
    "sns.FacetGrid(data, hue =\"species\",\n",
    "              height = 6).map(plt.scatter,\n",
    "                              \"sepal length (cm)\",\n",
    "                              \"petal length (cm)\").add_legend()"
   ]
  },
  {
   "cell_type": "markdown",
   "id": "a77061d4",
   "metadata": {},
   "source": [
    "Maintenant, on peut observer nos données pour deux variables (sepal et petal length). Etant donné que le dataset est relativement petit, il est possible de les afficher toutes en même temps les unes par rapport aux autres, paire par paire. c'est ce qui est appelé un **pairplot**. "
   ]
  },
  {
   "cell_type": "code",
   "execution_count": null,
   "id": "9ad38b99",
   "metadata": {},
   "outputs": [],
   "source": [
    "# Pairplot à l'aide de Seaborn.\n",
    "g = sns.pairplot(data, hue='species', palette={0: 'steelblue', 1: 'orangered', 2: 'seagreen'})\n",
    "plt.suptitle('Scatter plots by pair, colorized by label', fontsize=18, y=1.02)"
   ]
  },
  {
   "cell_type": "markdown",
   "id": "ae7cb376",
   "metadata": {},
   "source": [
    "Parmis toutes les variables, on peut alors distinguer lesquelles se distinguent le mieux selon la classe (espèce). On voit maintenant clairement que la longueur et la largeur des pétales sont plus courts pour l'espèce 0 par rapport aux deux autres alors que la largeur des sépales se confond beaucoup entre les classes. \n",
    "\n",
    "Pour se transporter un peu dans le futur de ce cours, on voit que la longueur et largeur de pétales serait une bonne variable pour prédir à quelle espèce appartient une fleur. "
   ]
  },
  {
   "cell_type": "markdown",
   "id": "4d3afab7",
   "metadata": {},
   "source": [
    "____\n",
    "\n",
    "## Questions générales\n",
    "\n",
    "Reparcourez ce notebook et posez vous les questions suivantes: \n",
    "\n",
    "- Quelle est l'utilité des Notebooks ?\n",
    "- Quels sont les roles de Numpy, Pandas et Matplotlib ?\n",
    "- Où puis-je retrouver rapidement les informations concernant ces trois outils ?\n",
    "- Est-ce que j'ai des questions à poser la prochaine fois ?"
   ]
  },
  {
   "cell_type": "code",
   "execution_count": null,
   "id": "2535ca1b",
   "metadata": {},
   "outputs": [],
   "source": [
    "# https://gist.github.com/bbengfort/dd9d8027a37f3a96c44323a8303520f0\n",
    "fig = plt.figure(figsize=(8,8))\n",
    "ax = fig.add_subplot(1,1,1, aspect=1, title=\"Bonne journée !\")\n",
    "\n",
    "ax.scatter([.5],[.5], c='#FFCC00', s=120000, label=\"face\")\n",
    "ax.scatter([.35, .65], [.63, .63], c='k', s=1000, label=\"eyes\")\n",
    "\n",
    "X = np.linspace(.3, .7, 100)\n",
    "Y = 2* (X-.5)**2 + 0.30\n",
    "\n",
    "ax.plot(X, Y, c='k', linewidth=8, label=\"smile\")\n",
    "\n",
    "ax.set_xlim(0,1)\n",
    "ax.set_ylim(0,1)\n",
    "\n",
    "ax.spines['top'].set_visible(False)\n",
    "ax.spines['right'].set_visible(False)\n",
    "ax.spines['left'].set_visible(False)\n",
    "ax.spines['bottom'].set_visible(False)\n",
    "ax.set_xticks([])\n",
    "ax.set_yticks([])"
   ]
  }
 ],
 "metadata": {
  "kernelspec": {
   "display_name": "Python 3 (ipykernel)",
   "language": "python",
   "name": "python3"
  },
  "language_info": {
   "codemirror_mode": {
    "name": "ipython",
    "version": 3
   },
   "file_extension": ".py",
   "mimetype": "text/x-python",
   "name": "python",
   "nbconvert_exporter": "python",
   "pygments_lexer": "ipython3",
   "version": "3.9.13"
  }
 },
 "nbformat": 4,
 "nbformat_minor": 5
}
