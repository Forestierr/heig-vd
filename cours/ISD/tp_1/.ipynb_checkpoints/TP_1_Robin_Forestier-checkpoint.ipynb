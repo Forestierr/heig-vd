{
 "cells": [
  {
   "cell_type": "markdown",
   "id": "05f20624",
   "metadata": {},
   "source": [
    "# Tp 1\n",
    "\n",
    "Robin Forestier\n",
    "\n",
    "Le but de ce tp est de comptabiliser le pourcentage de nombre paire sur 1 million de nombre aléatoire en 1 et 10 (compris).\n"
   ]
  },
  {
   "cell_type": "code",
   "execution_count": 1,
   "id": "81e8feef",
   "metadata": {},
   "outputs": [],
   "source": [
    "# import\n",
    "import random"
   ]
  },
  {
   "cell_type": "code",
   "execution_count": 2,
   "id": "230b4c34",
   "metadata": {},
   "outputs": [],
   "source": [
    "# variable\n",
    "numberOfEven = 0\n",
    "result = 0"
   ]
  },
  {
   "cell_type": "raw",
   "id": "5d5be87d",
   "metadata": {},
   "source": [
    "Test du random."
   ]
  },
  {
   "cell_type": "code",
   "execution_count": 3,
   "id": "750b1112",
   "metadata": {
    "scrolled": true
   },
   "outputs": [
    {
     "data": {
      "text/plain": [
       "8"
      ]
     },
     "execution_count": 3,
     "metadata": {},
     "output_type": "execute_result"
    }
   ],
   "source": [
    "random.randint(1, 10) # nombre aléatoire entre 1 et 10 (inclus)"
   ]
  },
  {
   "cell_type": "raw",
   "id": "eb7633e6",
   "metadata": {},
   "source": [
    "Tirage des 1 millions de nombre aléatoire.\n",
    "Comparaison si les nombre sont divisible par 2.\n",
    "Et incrémentation de la variable \"numberOfEven\"."
   ]
  },
  {
   "cell_type": "code",
   "execution_count": 4,
   "id": "685078a8",
   "metadata": {},
   "outputs": [],
   "source": [
    "for i in range(1000000):\n",
    "    if random.randint(1, 10) % 2:\n",
    "        numberOfEven = numberOfEven + 1"
   ]
  },
  {
   "cell_type": "raw",
   "id": "69a2e97a",
   "metadata": {},
   "source": [
    "Calcule du pourcentage de nombre paire."
   ]
  },
  {
   "cell_type": "code",
   "execution_count": 5,
   "id": "e475bcd4",
   "metadata": {},
   "outputs": [
    {
     "name": "stdout",
     "output_type": "stream",
     "text": [
      "50.045700000000004 %\n"
     ]
    }
   ],
   "source": [
    "result = numberOfEven / 1000000 * 100\n",
    "print(result, \"%\")"
   ]
  }
 ],
 "metadata": {
  "kernelspec": {
   "display_name": "Python 3 (ipykernel)",
   "language": "python",
   "name": "python3"
  },
  "language_info": {
   "codemirror_mode": {
    "name": "ipython",
    "version": 3
   },
   "file_extension": ".py",
   "mimetype": "text/x-python",
   "name": "python",
   "nbconvert_exporter": "python",
   "pygments_lexer": "ipython3",
   "version": "3.9.13"
  }
 },
 "nbformat": 4,
 "nbformat_minor": 5
}
