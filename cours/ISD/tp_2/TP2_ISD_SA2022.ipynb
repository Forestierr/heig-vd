{
 "cells": [
  {
   "cell_type": "markdown",
   "id": "cfee4249",
   "metadata": {},
   "source": [
    "# Introduction à la Science des données\n",
    "\n",
    "\n",
    "## Travail pratique 02 – Outils pour le calcul scientifique II \n",
    "\n",
    "\n",
    "### Table des matières\n",
    "\n",
    "[Analyse des données socio-économiques](#Analyse-des-données-socio-économiques)\n",
    "\n",
    "[- Bases](#Bases)\n",
    "\n",
    "[- Histogrammes](#Histogrammes)\n",
    "\n",
    "[- Manipulations des données](#Manipulations-des-données)\n",
    "\n",
    "[- Manipulations et graphiques](#Manipulations-et-graphiques)\n",
    "\n",
    "\n",
    "\n",
    "\n",
    "\n",
    "\n",
    "**Professeurs**: Carlos Peña et Stephan Robert\n",
    "\n",
    "**Assistant(s)**: Thibault Schowing\n",
    "\n",
    "**Contact**: prenom.nom@heig-vd.ch ou de préférence via Teams pout l'assistant\n",
    "\n",
    "**Rendu**:\n",
    "- Date: 07.11.2022, 23h55\n",
    "\n",
    "- Modalité: Travail individuel. Une fois complété, rendez directement le notebook nommé correctement comme suit \"**TP2_ISD_SA2022_Nom_Prenom.ipynb**\" en remplaçant Nom et Prenom par les votres, y compris ci-dessous, puis uploader votre fichier sur Cyberlearn.\n",
    "\n",
    "- Les questions sont généralement indiquées en **gras** ou par une liste d'instructrions et les endroits où répondre sont indiqués par un \"*Réponse:*\" pour les réponses textuelles. \n",
    "- Pour les réponses nécessitant d'écrire du code, les cellules ont déjà été crées et un commentaire indique où/quoi répondre.\n",
    "\n",
    "- Note: Ce TP est noté sur 6, pour un poids de 5%\n",
    "\n",
    "**Étudiant**:\n",
    "- Prénom Nom\n",
    "\n",
    "<div class=\"alert alert-block alert-success\">\n",
    "<b>Objectifs </b>\n",
    "</div>\n",
    "\n",
    "- Se familiariser avec la bibliothèque Pandas de gestion et traitement des dataframes.\n",
    "- Mise en pratique de l'analyse et la caractérisation simple des attributs d’une base de données.\n",
    "\n",
    "\n",
    "\n",
    "<div class=\"alert alert-block alert-info\">\n",
    "<b>Aide - Différentes Cheatsheets recommandées pour accompagner le TP.  </b>\n",
    "</div>\n",
    "\n",
    "N'oubliez pas que vous pouvez retourner vers le TP1 si vous avez des questions sur Python, Numpy, Pandas ou Matplotlib. \n",
    "\n",
    "- [Data wrangling with Pandas](https://pandas.pydata.org/Pandas_Cheat_Sheet.pdf)\n",
    "- [Matplotlib cheatscheets](https://matplotlib.org/cheatsheets/)\n",
    "\n",
    "\n",
    "\n",
    "<div class=\"alert alert-block alert-info\">\n",
    "<b>Corrections: </b> Ce notebook vous sera renvoyé via Cyberlearn ou  un autre canal. Les informations principales concernant les corrections seront indiquées après chaque section (banière bleue) avec le nombre de points. Il est possible que des remarques concernant le code soient directement ajoutées dans celui-ci.\n",
    "</div>\n"
   ]
  },
  {
   "cell_type": "markdown",
   "id": "e06372ba",
   "metadata": {},
   "source": [
    "### 1.\tAnalyse des données socio-économiques\n",
    "\n",
    "La fondation gapminder fondée par Hans Rosling et famille, fournit une base de données sur les pays, des outils d’analyse et des études d’analyse socio-économique très intéressantes. Les petits sets de données que nous allons utiliser peuvent sembler insignifiants mais une analyse objective et factuelle des données, comme le promeut la [fondation Gapminder](https://www.projectrosling.ch/fr/concept/), peut rapidement changer votre perception du monde !\n",
    "\n",
    "Nous allons utiliser une petite base de données contenant la population, l’espérance de vie et le PIB par habitant pour différents pays du monde de 1952 à 2007, pour faire quelques analyses.\n",
    "\n",
    "**N'hésitez pas à ouvrir votre TP1 pour avoir les quelques bases à portée de vue pour vous aider dans ce labo et les suivants !**\n",
    "\n",
    "\n",
    "- Dans l'environnement Anaconda utilisé par Jupyter (l'environnement que vous avez inscrit comme kernel), commencez par importer le module gapminder avec pip: *pip install gapminder*. Une fois installé ce module, vous aurez accès à un dataframe appelé gapminder. "
   ]
  },
  {
   "cell_type": "code",
   "execution_count": null,
   "id": "5050aa83",
   "metadata": {},
   "outputs": [],
   "source": [
    "import matplotlib.pyplot as plt\n",
    "import numpy as np\n",
    "import pandas as pd\n",
    "from gapminder import gapminder\n",
    "\n",
    "\n",
    "# Pour plus de clareté et pour la tradition, on appelle notre DataFrame \"df\" \n",
    "df = gapminder"
   ]
  },
  {
   "cell_type": "markdown",
   "id": "221d52db",
   "metadata": {},
   "source": [
    "___\n",
    "**1.1) Utilisez les méthodes head(), describe() et info() pour vous familiariser avec le DataFrame.**"
   ]
  },
  {
   "cell_type": "code",
   "execution_count": null,
   "id": "3be19308",
   "metadata": {},
   "outputs": [],
   "source": [
    "# Utilisez la méthode head()\n"
   ]
  },
  {
   "cell_type": "code",
   "execution_count": null,
   "id": "febdd96d",
   "metadata": {},
   "outputs": [],
   "source": [
    "# Utilisez la méthode describe()\n"
   ]
  },
  {
   "cell_type": "code",
   "execution_count": null,
   "id": "56e74fd8",
   "metadata": {},
   "outputs": [],
   "source": [
    "# Utilisez la méthode info()\n"
   ]
  },
  {
   "cell_type": "markdown",
   "id": "b3686cd2",
   "metadata": {},
   "source": [
    "**1.2) Décrivez brièvement le contenu du dataset. Quelles sont les données présentes ? Que signifient-elles ?**\n",
    "\n",
    "(2 points)\n",
    "\n",
    "\n",
    "*Réponse:*"
   ]
  },
  {
   "cell_type": "markdown",
   "id": "7ddcd58e",
   "metadata": {},
   "source": [
    "**1.3) Décrivez le contenu des résultats renvoyés par les trois méthodes ci-dessus:**\n",
    "\n",
    "(3 points)\n",
    "\n",
    "*Description head():*\n",
    "\n",
    "\n",
    "*Description describe():*\n",
    "\n",
    "\n",
    "*Description info():*"
   ]
  },
  {
   "cell_type": "markdown",
   "id": "3f492cdc",
   "metadata": {},
   "source": [
    "<div class=\"alert alert-block alert-info\">\n",
    "<b>Corrections: </b> Points obtenus: /5\n",
    "</div>\n",
    "\n",
    "Remarques: "
   ]
  },
  {
   "cell_type": "markdown",
   "id": "b92734b4",
   "metadata": {},
   "source": [
    "___\n",
    "### Histogrammes\n",
    "\n",
    "**2.1) Utilisez la commande *pandas.DataFrame.hist(df)* ci-dessous pour vous faire une idée plus précise des valeurs dans la base de données.** "
   ]
  },
  {
   "cell_type": "code",
   "execution_count": null,
   "id": "d9c6453e",
   "metadata": {},
   "outputs": [],
   "source": [
    "# Observez bien la notation utilisée et comment s'utilise la fonction \"pandas.DataFrame.hist(df)\"\n",
    "# On ajoute la taille de figure en paramètres pour plus de clareté.\n",
    "\n",
    "df.hist(figsize=(16, 10));"
   ]
  },
  {
   "cell_type": "markdown",
   "id": "77f96a24",
   "metadata": {},
   "source": [
    "**2.2) Décrivez rapidement les quatre histogrammes ci-dessus. Que remarquez-vous avec l'histogramme représentant la variable \"year\" ?** \n",
    "\n",
    "(3 points)"
   ]
  },
  {
   "cell_type": "markdown",
   "id": "36e5b1c1",
   "metadata": {},
   "source": [
    "*Réponse:*\n",
    "\n",
    "\n"
   ]
  },
  {
   "cell_type": "markdown",
   "id": "642a1eb6",
   "metadata": {},
   "source": [
    "**2.3) Exécutez le code ci-dessous puis répondez aux questions suivantes:**\n",
    "\n",
    "(2 points)\n",
    "\n",
    "- Que représente le paramètre \"bins\" ? Aidez-vous de [la doc](https://pandas.pydata.org/docs/reference/api/pandas.DataFrame.hist.html) si nécessaire.\n",
    "\n",
    "*Réponse:*\n",
    "\n",
    "- Quelle conclusion pouvez vous tirer concernant la représentation de la variable \"year\" dans le dataset ?\n",
    "\n",
    "*Réponse:*\n"
   ]
  },
  {
   "cell_type": "code",
   "execution_count": null,
   "id": "d3ce4f36",
   "metadata": {},
   "outputs": [],
   "source": [
    "# Code question 2.3\n",
    "df[\"year\"].hist(figsize=(7, 7), bins = 55);"
   ]
  },
  {
   "cell_type": "markdown",
   "id": "9ba10de2",
   "metadata": {},
   "source": [
    "<div class=\"alert alert-block alert-info\">\n",
    "<b>Corrections: </b> Points obtenus: /5\n",
    "</div>\n",
    "\n",
    "Remarques: "
   ]
  },
  {
   "cell_type": "markdown",
   "id": "3a241742",
   "metadata": {},
   "source": [
    "___\n",
    "\n",
    "### Manipulations des données\n",
    "\n",
    "**3.1) Trouvez combien d’observations il y a par pays et par année (c.a.d., combien de données par pays et par année) et vérifiez s’il y a des données manquantes.** \n",
    "\n",
    "(3 points)\n",
    "\n",
    "Pour vérifier s'il y a des données manquantes, vérifiez simplement qu'aucun pays/année n'a moins de données que les autres. Ecrivez vos conclusions dans la cellule ci-après. \n",
    "\n",
    "Pour cela, utilisez les fonctions: *groupby()* avec comme paramètres \"year\" et \"country\" puis *size()* pour avoir la taille. Observez en premier à quoi ressemble le résultat de ces deux fonctions puis enchaînez avec *describe()* afin d'en tirer des conclusions. \n",
    "\n",
    "Regardez les exemples de [la doc pour la fonction groupby()](https://pandas.pydata.org/docs/reference/api/pandas.DataFrame.groupby.html) afin de voir comment **chaîner les méthodes**."
   ]
  },
  {
   "cell_type": "code",
   "execution_count": null,
   "id": "e9f19e7d",
   "metadata": {},
   "outputs": [],
   "source": [
    "# Écrivez votre code ici. Note: une seule ligne suffit. \n",
    "\n"
   ]
  },
  {
   "cell_type": "markdown",
   "id": "28956c0c",
   "metadata": {},
   "source": [
    "**3.2) Combien de mesures ont été faites par année ? (pas besoin d'utiliser *describe()*)**\n",
    "\n",
    "(2 points)"
   ]
  },
  {
   "cell_type": "code",
   "execution_count": null,
   "id": "4a1322c2",
   "metadata": {},
   "outputs": [],
   "source": [
    "# Écrivez votre code ici. Note: une seule ligne suffit. \n",
    "\n"
   ]
  },
  {
   "cell_type": "markdown",
   "id": "c357e978",
   "metadata": {},
   "source": [
    "**3.3) Que pouvez-vous conclure concernant les donneés manquantes:**\n",
    "\n",
    "(1 point)\n",
    "\n",
    "*Réponse:*"
   ]
  },
  {
   "cell_type": "markdown",
   "id": "1fc0f78a",
   "metadata": {},
   "source": [
    "___\n",
    "**3.4) Listez les valeurs uniques présentes dans les colonnes ‘continent’, ‘country’, et ‘year’. Utilisez la méthode *unique()*.** \n",
    "\n",
    "(3 points)\n",
    "\n",
    "Aide: vous pouvez utiliser *df['Nom Colonne']* ou *df.loc[:,'Nom colonne']* pour retourner directement le contenu d'une colonne. "
   ]
  },
  {
   "cell_type": "code",
   "execution_count": null,
   "id": "29f5d97d",
   "metadata": {},
   "outputs": [],
   "source": [
    "# Écrivez votre code ici. Note: une seule ligne suffit par colonne. Affichez vos résultats dans des cellules différentes.  \n",
    "\n",
    "# Continent\n"
   ]
  },
  {
   "cell_type": "code",
   "execution_count": null,
   "id": "b9ac93de",
   "metadata": {},
   "outputs": [],
   "source": [
    "# Country\n"
   ]
  },
  {
   "cell_type": "code",
   "execution_count": null,
   "id": "176b5a78",
   "metadata": {},
   "outputs": [],
   "source": [
    "# Year\n"
   ]
  },
  {
   "cell_type": "markdown",
   "id": "90cbcfb6",
   "metadata": {},
   "source": [
    "<div class=\"alert alert-block alert-info\">\n",
    "<b>Corrections: </b> Points obtenus: /9\n",
    "</div>\n",
    "\n",
    "Remarques: "
   ]
  },
  {
   "cell_type": "markdown",
   "id": "34e678e0",
   "metadata": {},
   "source": [
    "___\n",
    "\n",
    "### Manipulations et graphiques\n",
    "\n",
    "**4.1) Calculez la moyenne de l’espérance de vie de tous les pays en 1952 et en 2007. Générez un bar chart permettant la comparaison de ces moyennes.**\n",
    "\n",
    "(5 points)\n",
    "\n",
    "Pour sélectionner les données des bonnes années, regardez les [exemples de la doc (\"Getting values\")](https://pandas.pydata.org/docs/reference/api/pandas.DataFrame.loc.html) pour vous aider à comprendre comment faire à l'aide de conditions. \n",
    "\n",
    "\n",
    "Une fois que vous avez un nouveau DataFrame avec uniquement les données de 1952 et 2007, gardez uniquement les colonnes d'intérêt (year et lifeExp), groupez les données par année et calculez la moyenne de l'espérence de vie. Une fois ceci fait, utilisez la fonction ```df.plot.bar()``` \n",
    "\n",
    "Aide: vous pouvez utiliser plusieur .loc[] d'affilée, une fois pour choisir les années, et une fois pour choisir les colonnes d'intérêt. **Regardez l'exemple ci-dessous pour vous aider**.\n",
    "\n",
    "Notes: toutes ces opérations peuvent être effectuées à la chaîne, en une seule ligne. Si vous souhaitez faire cela petit à petit, n'oubliez pas d'enregistrer vos résultats intermédiaires dans une variable: ``` tmp_df = df.loc[\"exemple\"]```. **Vous pouvez créer des cellules supplémentaires si vous l'estimez nécessaire.**\n",
    "\n",
    "\n"
   ]
  },
  {
   "cell_type": "code",
   "execution_count": null,
   "id": "4d7b764d",
   "metadata": {},
   "outputs": [],
   "source": [
    "# Écrivez votre code ici\n",
    "\n",
    "\n"
   ]
  },
  {
   "cell_type": "markdown",
   "id": "783a0ee3",
   "metadata": {},
   "source": [
    "Ci-dessous, un petit **exemple** qui utilise le \"method chaining\". Cette notation, qui profite du fait que chaque methode Pandas retourne un DataFrame auquel on peut appliquer une nouvelle méthode, augmente grandement la lisibiltié du code. Vous trouvez une section avec un exemple sur [La cheat sheet \"Data wrangling with Pandas\"](https://pandas.pydata.org/Pandas_Cheat_Sheet.pdf). \n",
    "\n",
    ">Most pandas methods return a DataFrame so that another pandas method can be applied to the result. This improves readability of code.\n",
    "\n",
    "\n",
    "En plus de chaîner les méthodes, le graphique est rendu beaucoup plus lisible en y ajoutant des axes bien nommés, un titre et des labels inclinés. Libre à vous de vous inspirer de cet exemple pour l'exercice 5. "
   ]
  },
  {
   "cell_type": "code",
   "execution_count": null,
   "id": "d60e29dd",
   "metadata": {},
   "outputs": [],
   "source": [
    "# Exemple\n",
    "\n",
    "ax = (df\n",
    "      .loc[:, ['continent', 'lifeExp']]\n",
    "      .groupby('continent')\n",
    "      .mean('lifeExp')\n",
    "      .plot.bar(rot=45, figsize=(16, 8))\n",
    "      )\n",
    "ax.set_title('Overall mean of life expectancy per continent', fontsize=14)\n",
    "ax.set_xlabel('Continent', fontsize=12)\n",
    "ax.set_ylabel('Life expectancy', fontsize=12);"
   ]
  },
  {
   "cell_type": "markdown",
   "id": "a9ad9254",
   "metadata": {},
   "source": [
    "\n",
    "___"
   ]
  },
  {
   "cell_type": "markdown",
   "id": "a6f571a0",
   "metadata": {},
   "source": [
    "\n",
    "**4.2) Calculez la moyenne de l’espérance de vie des pays par continent en 1952 et en 2007. Générez un bar chart permettant la comparaison de ces moyennes.**\n",
    "\n",
    "(5 points)\n",
    "\n",
    "Comme pour l'exercice précédent, vous devez transformer vos données avant de les afficher. Ici vous devez grouper sur deux niveaux: par année puis par continent. Le graphique final aura un aspect similaire à celui ci-dessus, avec deux barres par continent: une pour 1952 et une pour 2007.\n",
    "\n",
    "Pour avoir le format de données attendu pour générer l'histogramme ( Continent | 1952 | 2007 ) voous devrez utiliser la fonction [unstack()](https://pandas.pydata.org/docs/reference/api/pandas.DataFrame.unstack.html). Lisez rapidement la documentation pour en comprendre le sens puis transformez vos données ci-dessous. On vous conseille de lire [cet article de la documentation](https://pandas.pydata.org/docs/user_guide/reshaping.html) pour bien comprendre les différentes manipulations appliquées aux données. Des exemples avec images permettent une bonne compréhension, spécialement pour la fonction *unstack()* qui peut être un peu abstraite au début. \n",
    "\n",
    "\n",
    "**Note:** dans la cellule à compléter ci-dessous, le résultat n'est pas affecté à une variable mais uniquement affiché en sortie pour tester le code. Pour affecter le résultat remplissez la cellule d'après comme indiqué, avec le résultat de vos essais. \n",
    "\n"
   ]
  },
  {
   "cell_type": "code",
   "execution_count": null,
   "id": "e5dd9ce2",
   "metadata": {},
   "outputs": [],
   "source": [
    "# Testez votre code ici (qui ne fait qu'afficher le dataFrame transformé). Profitez de \"jouer\" avec les différentes fonctions.\n",
    "\n",
    "(df\n",
    " #.loc[]\n",
    " #.query()                           # Vous pouvez utiliser query() ou loc[] selon vos préférences\n",
    " #.groupby()\n",
    " #.mean()\n",
    " #.unstack()                         # Testez la fonction unstack() \n",
    " )"
   ]
  },
  {
   "cell_type": "code",
   "execution_count": null,
   "id": "979e06a0",
   "metadata": {
    "scrolled": true
   },
   "outputs": [],
   "source": [
    "# Ajoutez votre code ici pour créer le dataFrame df_life_exp. Sans modification il sera égal à df\n",
    "\n",
    "df_life_exp = (df\n",
    " #.loc[]\n",
    " #.query() / loc[]\n",
    " #.groupby()\n",
    " #.mean()\n",
    " #.unstack()\n",
    " )\n",
    "\n",
    "df_life_exp "
   ]
  },
  {
   "cell_type": "code",
   "execution_count": null,
   "id": "192b97cf",
   "metadata": {},
   "outputs": [],
   "source": [
    "# Exécutez cette cellule pour afficher le graphique une fois df_life_exp formaté correctement.\n",
    "\n",
    "# Barplot des deux années, par continent\n",
    "ax = (df_life_exp\n",
    "      .plot.bar(rot=45, figsize=(16, 6))\n",
    "      )\n",
    "ax.set_xlabel('Continent', fontsize=12)\n",
    "ax.set_ylabel('Life Expectancy', fontsize=12)\n",
    "ax.set_title('Life Expectancy by continent in 1952 and 2007', fontsize=14)\n",
    "# Rename legend to remove the None and the `LifeExp`.\n",
    "ax.legend(labels=['1952', '2007'])\n"
   ]
  },
  {
   "cell_type": "markdown",
   "id": "1eeb9913",
   "metadata": {},
   "source": [
    "**4.3) Question** \n",
    "\n",
    "Quel pays affiche la plus grande progression de l'espérance de vie ?\n",
    "\n",
    "(1 point)"
   ]
  },
  {
   "cell_type": "markdown",
   "id": "31f68f20",
   "metadata": {},
   "source": [
    "Pour en être sûr, regardez la différence entre les moyennes des deux années en exécutant le code ci-dessous. Jettez un oeil à la fonction [pandas.diff()](https://pandas.pydata.org/docs/reference/api/pandas.DataFrame.diff.html). Donnez votre réponse en plus d'une courte explication de la fonction *diff()*. "
   ]
  },
  {
   "cell_type": "markdown",
   "id": "eeaeefed",
   "metadata": {},
   "source": [
    "*Réponse:* "
   ]
  },
  {
   "cell_type": "code",
   "execution_count": null,
   "id": "17a1d630",
   "metadata": {},
   "outputs": [],
   "source": [
    "# On peut voir la progression en faisant la différence entre les deux colonnes (1952 et 2007).\n",
    "\n",
    "df_life_exp.diff(axis=1) # Note: axis=0 -> par \"rows\", axis=1 -> par \"columns\""
   ]
  },
  {
   "cell_type": "markdown",
   "id": "befd2bf0",
   "metadata": {},
   "source": [
    "<div class=\"alert alert-block alert-info\">\n",
    "<b>Corrections 4.1 - 4.3: </b> Points obtenus: /11\n",
    "</div>\n",
    "\n",
    "Remarques: "
   ]
  },
  {
   "cell_type": "markdown",
   "id": "f0f0de65",
   "metadata": {},
   "source": [
    "___\n",
    "**Afin de visualiser la population par continent au fil du temps, nous créons le graphique ci-dessous.**"
   ]
  },
  {
   "cell_type": "code",
   "execution_count": null,
   "id": "6c292b8c",
   "metadata": {
    "scrolled": false
   },
   "outputs": [],
   "source": [
    "# Evolution of the population by continent from 1952 to 2007.\n",
    "ax = (df\n",
    "      .loc[:, ['year', 'continent', 'pop']]\n",
    "      .groupby(['year', 'continent'])\n",
    "      .mean('pop')\n",
    "      .unstack('continent')\n",
    "      .plot(rot=45, figsize=(16, 8))\n",
    "      )\n",
    "ax.set_xlabel('Year', fontsize=12)\n",
    "ax.set_ylabel('Population', fontsize=12)\n",
    "ax.set_title('Population by continent from 1952 to 2007', fontsize=14)\n",
    "ax.legend(sorted(df['continent'].unique()))\n"
   ]
  },
  {
   "cell_type": "markdown",
   "id": "8688fc9c",
   "metadata": {},
   "source": [
    "**4.4) Que pouvez vous conclure à partir de ce graphique ?**\n",
    "\n",
    "(1 points)"
   ]
  },
  {
   "cell_type": "markdown",
   "id": "bba767b7",
   "metadata": {},
   "source": [
    "*Réponse:*"
   ]
  },
  {
   "cell_type": "markdown",
   "id": "74bc1cff",
   "metadata": {},
   "source": [
    "**4.5) Décrivez chaque étape de transformation des données.**\n",
    "\n",
    "(5 points)\n",
    "\n",
    "Par exemple:\n",
    "\n",
    "*.loc[:, 'X'] : extrait la colonne \"X\" du DataFrame*\n",
    "\n",
    "*.method : fait quelque chose*\n",
    "\n",
    "...\n"
   ]
  },
  {
   "cell_type": "markdown",
   "id": "e9f6016b",
   "metadata": {},
   "source": [
    "*Réponse:*"
   ]
  },
  {
   "cell_type": "markdown",
   "id": "80fae5cd",
   "metadata": {},
   "source": [
    "**4.6) Affichez les données transformées qui sont passées à la fonction *plot()***. (recopiez simplement le bout de code concerné)\n",
    "\n",
    "(2 points)"
   ]
  },
  {
   "cell_type": "code",
   "execution_count": null,
   "id": "ab4ac8d1",
   "metadata": {},
   "outputs": [],
   "source": [
    "# Écrivez votre code ici:\n",
    "\n"
   ]
  },
  {
   "cell_type": "code",
   "execution_count": null,
   "id": "ed615536",
   "metadata": {
    "scrolled": false
   },
   "outputs": [],
   "source": [
    "#SOLUTION\n",
    "\n",
    "(df\n",
    "      .loc[:, ['year', 'continent', 'pop']]\n",
    "      .groupby(['year', 'continent'])\n",
    "      .mean('pop')\n",
    "      .unstack('continent'))"
   ]
  },
  {
   "cell_type": "markdown",
   "id": "b1cfc3cf",
   "metadata": {},
   "source": [
    "<div class=\"alert alert-block alert-info\">\n",
    "<b>Corrections 4.4 - 4.6: </b> Points obtenus: /8\n",
    "</div>\n",
    "\n",
    "Remarques: "
   ]
  },
  {
   "cell_type": "markdown",
   "id": "923e024b",
   "metadata": {},
   "source": [
    "**4.7) Lisez attentivement le code du graphique suivant et ses commentaires. Ajoutez _une seule ligne_ pour définir comme taille de points du scatterplot, la population de chaque pays en million.**\n",
    "\n",
    "(2 points)\n",
    "\n",
    "Vous pouvez trouver le paramètre à ajouter dans [la doc](https://pandas.pydata.org/pandas-docs/version/0.25.0/reference/api/pandas.DataFrame.plot.scatter.html). "
   ]
  },
  {
   "cell_type": "code",
   "execution_count": null,
   "id": "f8396840",
   "metadata": {},
   "outputs": [],
   "source": [
    "import matplotlib.cm as cm\n",
    "NCOLORS = 5\n",
    "\n",
    "fig, axs = plt.subplots(1, 2, sharey=True, sharex=True, figsize=(20, 8))\n",
    "\n",
    "# Colormap for the continents.\n",
    "cmap = list(cm.get_cmap(\"rainbow\")(np.linspace(0, 1, NCOLORS)))\n",
    "\n",
    "# Vous pouvez aussi définir les couleurs manuellement\n",
    "# cmap = [\"black\",\"red\",\"yellow\",\"blue\",\"green\"]\n",
    "\n",
    "\n",
    "for i, year in enumerate((1952, 2007)):\n",
    "    data = df.query('year == @year')\n",
    "    \n",
    "    # Plot each continent as a different color in order to have a legend. \n",
    "    \n",
    "    # Observez bien: \n",
    "    # - la fonction ennumerate et ce qu'elle retourne\n",
    "    #     La fonction ennumerate() renvoie un index en plus des éléments d'une liste. \n",
    "    #     Ici elle retourne c, l'index, ainsi qu'un tuple avec le groupe et le dataframe correspondant.\n",
    "    #     Pour accéder à la population de chaque pays on peut par exemple utiliser df_continent['pop']\n",
    "    \n",
    "    for c, (continent, df_continent) in enumerate(data.groupby('continent')):\n",
    "        \n",
    "        # Scatterplot\n",
    "        df_continent.plot.scatter(ax=axs[i], \n",
    "                                  x='gdpPercap', \n",
    "                                  y='lifeExp', \n",
    "                                  color=[cmap[c]], \n",
    "                                  label=continent, \n",
    "                                  alpha=0.8)\n",
    "    \n",
    "    # Plot style\n",
    "    \n",
    "    axs[i].set_title(year, fontsize=14)\n",
    "    axs[i].set_xlabel('GDP per capita', fontsize=12)\n",
    "    axs[i].grid(axis='y', linestyle='--', alpha=0.4, lw=0.5)\n",
    "    \n",
    "    \n",
    "    # Remove border on the top and right.\n",
    "    axs[i].spines['top'].set_visible(False)\n",
    "    axs[i].spines['right'].set_visible(False)\n",
    "    # Set alpha on remaining borders.\n",
    "    axs[i].spines['left'].set_alpha(0.4)\n",
    "    axs[i].spines['bottom'].set_alpha(0.4)\n",
    "\n",
    "    # Only show ticks on the left and bottom spines.\n",
    "    axs[i].xaxis.set_ticks_position('bottom')\n",
    "    axs[i].yaxis.set_ticks_position('left')\n",
    "    # Style of ticks.\n",
    "    plt.xticks(fontsize=10, alpha=0.7)\n",
    "    plt.yticks(fontsize=10, alpha=0.7)\n",
    "    \n",
    "axs[0].set_ylabel('Life Expectancy', fontsize=12)\n",
    "fig.suptitle('Scatter plot with life expectancy by dgpPercap by country for 1951 and 2007', fontsize=16)\n"
   ]
  },
  {
   "cell_type": "markdown",
   "id": "5d0d4cfc",
   "metadata": {},
   "source": [
    "**4.8) Analyse: Décrivez cette figure et répondez aux questions suivantes:**\n",
    "\n",
    "(5 points)\n",
    "\n",
    "- Quel est le principal message transmi ? \n",
    "- Quelles informations peut-on y trouver ? \n",
    "- Est-ce un bon graphique ? Que pourrait-on ajouter / supprimer pour le rendre plus riche en information ou plus pertinent ?\n"
   ]
  },
  {
   "cell_type": "markdown",
   "id": "77f87d59",
   "metadata": {},
   "source": [
    "*Réponses:*"
   ]
  },
  {
   "cell_type": "markdown",
   "id": "806c5e5f",
   "metadata": {},
   "source": [
    "<div class=\"alert alert-block alert-info\">\n",
    "<b>Corrections 4.7 - 4.8: </b> Points obtenus: /7\n",
    "</div>\n",
    "\n",
    "Remarques: "
   ]
  }
 ],
 "metadata": {
  "kernelspec": {
   "display_name": "isd-2022",
   "language": "python",
   "name": "isd-2022"
  },
  "language_info": {
   "codemirror_mode": {
    "name": "ipython",
    "version": 3
   },
   "file_extension": ".py",
   "mimetype": "text/x-python",
   "name": "python",
   "nbconvert_exporter": "python",
   "pygments_lexer": "ipython3",
   "version": "3.10.2"
  }
 },
 "nbformat": 4,
 "nbformat_minor": 5
}
