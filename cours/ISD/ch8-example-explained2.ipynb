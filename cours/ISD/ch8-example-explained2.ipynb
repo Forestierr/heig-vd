{
 "cells": [
  {
   "cell_type": "code",
   "execution_count": 1,
   "id": "51c85424",
   "metadata": {},
   "outputs": [],
   "source": [
    "#Example from https://machinelearningmastery.com/implement-learning-vector-quantization-scratch-python/\n",
    "\n",
    "from math import sqrt\n",
    "from random import randrange\n",
    "from random import seed\n",
    "\n",
    "# calculate the Euclidean distance between two vectors\n",
    "def euclidean_distance(row1, row2):\n",
    "\tdistance = 0.0\n",
    "\tfor i in range(len(row1)-1):\n",
    "\t\tdistance += (row1[i] - row2[i])**2\n",
    "\treturn sqrt(distance)"
   ]
  },
  {
   "cell_type": "raw",
   "id": "bf27898d",
   "metadata": {},
   "source": [
    "Où x1 est la première ligne de données, x2 est la deuxième ligne de données et i est l'indice d'une colonne spécifique, car nous additionnons toutes les colonnes.\n",
    "\n",
    "Avec la distance euclidienne, plus la valeur est petite, plus deux enregistrements sont similaires. Une valeur de 0 signifie qu'il n'y a pas de différence entre deux vecteurs.\n",
    "\n",
    "Vous trouverez ci-dessous une fonction appelée **euclidean_distance()** qui implémente cette fonction en Python.\n",
    "\n",
    "Vous pouvez voir que la fonction suppose que la dernière colonne de chaque ligne est une valeur de sortie qui est ignorée dans le calcul de la distance.\n",
    "\n",
    "Nous pouvons tester cette fonction de distance avec un petit jeu de données de classification artificiel. Nous utiliserons cet ensemble de données à plusieurs reprises lorsque nous construirons les éléments nécessaires à l'algorithme LVQ.\n",
    "\n",
    "En mettant tout cela en commun, nous pouvons écrire un petit exemple pour tester notre fonction de distance en imprimant la distance entre la première ligne et toutes les autres lignes. Nous nous attendons à ce que la distance entre la première ligne et elle-même soit égale à 0, ce qui est une bonne chose à rechercher.\n",
    "\n",
    "L'exécution de cet exemple affiche les distances entre la première ligne et toutes les lignes de l'ensemble de données, y compris elle-même."
   ]
  },
  {
   "cell_type": "code",
   "execution_count": 47,
   "id": "818ce47a",
   "metadata": {},
   "outputs": [
    {
     "name": "stdout",
     "output_type": "stream",
     "text": [
      "0.0\n",
      "1.3290173915275787\n",
      "1.9494646655653247\n",
      "1.5591439385540549\n",
      "0.5356280721938492\n",
      "4.850940186986411\n",
      "2.592833759950511\n",
      "4.214227042632867\n",
      "6.522409988228337\n",
      "4.985585382449795\n"
     ]
    }
   ],
   "source": [
    "# Test distance function\n",
    "dataset = [[2.7810836,2.550537003,0],\n",
    "\t[1.465489372,2.362125076,0],\n",
    "\t[3.396561688,4.400293529,0],\n",
    "\t[1.38807019,1.850220317,0],\n",
    "\t[3.06407232,3.005305973,0],\n",
    "\t[7.627531214,2.759262235,1],\n",
    "\t[5.332441248,2.088626775,1],\n",
    "\t[6.922596716,1.77106367,1],\n",
    "\t[8.675418651,-0.242068655,1],\n",
    "\t[7.673756466,3.508563011,1]]\n",
    " \n",
    "row0 = dataset[0]\n",
    "for row in dataset:\n",
    "\tdistance = euclidean_distance(row0, row)\n",
    "\tprint(distance)"
   ]
  },
  {
   "cell_type": "markdown",
   "id": "0c449ae9",
   "metadata": {},
   "source": [
    "## Best Matching Unit\n",
    "\n",
    "La BMU (meilleure correspondance) est le vecteur du codebook qui est le plus similaire à une nouvelle donnée.\n",
    "\n",
    "Pour localiser la BMU d'une nouvelle donnée dans un ensemble de données, nous devons d'abord calculer la distance entre chaque vecteur du codebook et la nouvelle donnée. Nous pouvons le faire en utilisant notre fonction de distance ci-dessous.\n",
    "\n",
    "Une fois les distances calculées, nous devons trier tous les codebooks par leur distance aux nouvelles données. Nous pouvons alors retourner le premier vecteur de codebook ou le plus similaire.\n",
    "\n",
    "Nous pouvons le faire en gardant une trace de la distance pour chaque enregistrement dans l'ensemble de données comme un tuple, trier la liste des tuples par la distance (dans l'ordre décroissant) et ensuite récupérer le BMU.\n",
    "\n",
    "Vous trouverez ci-dessous une fonction appelée **get_best_matching_unit()** qui met en œuvre cette méthode.\n"
   ]
  },
  {
   "cell_type": "code",
   "execution_count": 48,
   "id": "fb87f1ca",
   "metadata": {},
   "outputs": [],
   "source": [
    "# Locate the best matching unit\n",
    "def get_best_matching_unit(codebooks, test_row):\n",
    "\tdistances = list()\n",
    "\tfor codebook in codebooks:\n",
    "\t\tdist = euclidean_distance(codebook, test_row)\n",
    "\t\tdistances.append((codebook, dist))\n",
    "\tdistances.sort(key=lambda tup: tup[1])\n",
    "\treturn distances[0][0]"
   ]
  },
  {
   "cell_type": "markdown",
   "id": "8276655b",
   "metadata": {},
   "source": [
    "Vous pouvez voir que la fonction euclidean_distance() développée à l'étape précédente est utilisée pour calculer la distance entre chaque vecteur du codebook et test_row.\n",
    "\n",
    "La liste des tuples du codebook et des distances est triée à l'aide d'une clé personnalisée qui garantit que le deuxième élément du tuple (tup[1]) est utilisé dans l'opération de tri.\n",
    "\n",
    "Enfin, le vecteur de codebook le plus élevé ou le plus similaire est renvoyé comme BMU.\n",
    "\n",
    "Nous pouvons tester cette fonction avec le petit ensemble de données artificielles préparé dans la section précédente.\n",
    "\n",
    "L'exemple complet est présenté ci-dessous.\n",
    "\n",
    "L'exécution de cet exemple imprime la BMU dans l'ensemble de données au premier enregistrement. Comme prévu, le premier enregistrement est le plus similaire à lui-même et se trouve en haut de la liste."
   ]
  },
  {
   "cell_type": "code",
   "execution_count": 49,
   "id": "30c28c1a",
   "metadata": {},
   "outputs": [
    {
     "name": "stdout",
     "output_type": "stream",
     "text": [
      "[{'Name': 'Alan Turing', 'age': 25, 'salary': 10000}, {'Name': 'John Hopkins', 'age': 18, 'salary': 1000}, {'Name': 'Mikhail Tal', 'age': 40, 'salary': 15000}, {'Name': 'Sharon Lin', 'age': 30, 'salary': 8000}]\n",
      "\n",
      "[{'Name': 'John Hopkins', 'age': 18, 'salary': 1000}, {'Name': 'Alan Turing', 'age': 25, 'salary': 10000}, {'Name': 'Sharon Lin', 'age': 30, 'salary': 8000}, {'Name': 'Mikhail Tal', 'age': 40, 'salary': 15000}]\n",
      "\n",
      "[{'Name': 'Mikhail Tal', 'age': 40, 'salary': 15000}, {'Name': 'Alan Turing', 'age': 25, 'salary': 10000}, {'Name': 'Sharon Lin', 'age': 30, 'salary': 8000}, {'Name': 'John Hopkins', 'age': 18, 'salary': 1000}]\n",
      "\n"
     ]
    }
   ],
   "source": [
    "# Example: sorting using custom key\n",
    "employees = [\n",
    "    {'Name': 'Alan Turing', 'age': 25, 'salary': 10000},\n",
    "    {'Name': 'Sharon Lin', 'age': 30, 'salary': 8000},\n",
    "    {'Name': 'John Hopkins', 'age': 18, 'salary': 1000},\n",
    "    {'Name': 'Mikhail Tal', 'age': 40, 'salary': 15000},\n",
    "]\n",
    "\n",
    "# sort by name (Ascending order)\n",
    "employees.sort(key=lambda x: x.get('Name'))\n",
    "print(employees, end='\\n\\n')\n",
    "\n",
    "# sort by Age (Ascending order)\n",
    "employees.sort(key=lambda x: x.get('age'))\n",
    "print(employees, end='\\n\\n')\n",
    "\n",
    "# sort by salary (Descending order)\n",
    "employees.sort(key=lambda x: x.get('salary'), reverse=True)\n",
    "print(employees, end='\\n\\n')"
   ]
  },
  {
   "cell_type": "markdown",
   "id": "5c1d31c8",
   "metadata": {},
   "source": [
    "**Key parameter**\n",
    "We can also sort the iterable based on the function specified in the key parameter. It can be a Built-in function, a User-defined function, a Lambda function, a itemgetter, a attrgetter"
   ]
  },
  {
   "cell_type": "code",
   "execution_count": 50,
   "id": "030d91e2",
   "metadata": {},
   "outputs": [
    {
     "name": "stdout",
     "output_type": "stream",
     "text": [
      "[2.7810836, 2.550537003, 0]\n",
      "[2.7810836, 2.550537003, 0]\n"
     ]
    }
   ],
   "source": [
    "from math import sqrt\n",
    " \n",
    "# calculate the Euclidean distance between two vectors\n",
    "def euclidean_distance(row1, row2):\n",
    "\tdistance = 0.0\n",
    "\tfor i in range(len(row1)-1):\n",
    "\t\tdistance += (row1[i] - row2[i])**2\n",
    "\treturn sqrt(distance)\n",
    " \n",
    "# Locate the best matching unit\n",
    "def get_best_matching_unit(codebooks, test_row):\n",
    "\tdistances = list()\n",
    "\tfor codebook in codebooks:\n",
    "\t\tdist = euclidean_distance(codebook, test_row)\n",
    "\t\tdistances.append((codebook, dist))\n",
    "\tdistances.sort(key=lambda tup: tup[1])\n",
    "\treturn distances[0][0]\n",
    " \n",
    "# Test best matching unit function\n",
    "dataset = [[2.7810836,2.550537003,0],\n",
    "\t[1.465489372,2.362125076,0],\n",
    "\t[3.396561688,4.400293529,0],\n",
    "\t[1.38807019,1.850220317,0],\n",
    "\t[3.06407232,3.005305973,0],\n",
    "\t[7.627531214,2.759262235,1],\n",
    "\t[5.332441248,2.088626775,1],\n",
    "\t[6.922596716,1.77106367,1],\n",
    "\t[8.675418651,-0.242068655,1],\n",
    "\t[7.673756466,3.508563011,1]]\n",
    "test_row = dataset[0]\n",
    "print(test_row)\n",
    "bmu = get_best_matching_unit(dataset, test_row)\n",
    "print(bmu)"
   ]
  },
  {
   "cell_type": "markdown",
   "id": "1aa25e4c",
   "metadata": {},
   "source": [
    "Faire des prédictions avec un ensemble de vecteurs de codebook est la même chose.\n",
    "\n",
    "Nous utilisons l'algorithme du voisin le plus proche. C'est-à-dire que pour chaque nouveau motif pour lequel nous souhaitons faire une prédiction,  nous localisons le vecteur codebook le plus similaire dans l'ensemble et nous retournons sa valeur de classe associée.\n",
    "\n",
    "Maintenant que nous savons comment obtenir la meilleure unité de correspondance à partir d'un ensemble de vecteurs du codebook, nous devons apprendre à les former."
   ]
  },
  {
   "cell_type": "markdown",
   "id": "e534c3ea",
   "metadata": {},
   "source": [
    "## Training Codebook Vectors\n",
    "\n",
    "La première étape de la formation d'un ensemble de vecteurs du codebook consiste à initialiser l'ensemble.\n",
    "\n",
    "Nous pouvons l'initialiser avec des modèles construits à partir de caractéristiques aléatoires dans l'ensemble de données d'apprentissage.\n",
    "\n",
    "Vous trouverez ci-dessous une fonction nommée ***random_codebook()*** qui implémente cette opération. Des caractéristiques d'entrée et de sortie aléatoires sont sélectionnées dans les données d'apprentissage."
   ]
  },
  {
   "cell_type": "code",
   "execution_count": 51,
   "id": "e8816267",
   "metadata": {},
   "outputs": [],
   "source": [
    "# Create a random codebook vector\n",
    "def random_codebook(train):\n",
    "\tn_records = len(train)\n",
    "\tn_features = len(train[0])\n",
    "\tcodebook = [train[randrange(n_records)][i] for i in range(n_features)]\n",
    "\treturn codebook"
   ]
  },
  {
   "cell_type": "code",
   "execution_count": 52,
   "id": "87ad2393",
   "metadata": {},
   "outputs": [],
   "source": [
    "dataset = [[2.7810836,2.550537003,0],\n",
    "\t[1.465489372,2.362125076,0],\n",
    "\t[3.396561688,4.400293529,0],\n",
    "\t[1.38807019,1.850220317,0],\n",
    "\t[3.06407232,3.005305973,0],\n",
    "\t[7.627531214,2.759262235,1],\n",
    "\t[5.332441248,2.088626775,1],\n",
    "\t[6.922596716,1.77106367,1],\n",
    "\t[8.675418651,-0.242068655,1],\n",
    "\t[7.673756466,3.508563011,1]]"
   ]
  },
  {
   "cell_type": "code",
   "execution_count": 53,
   "id": "b9d040c8",
   "metadata": {},
   "outputs": [],
   "source": [
    "train=dataset"
   ]
  },
  {
   "cell_type": "code",
   "execution_count": 54,
   "id": "1ab379c4",
   "metadata": {},
   "outputs": [
    {
     "data": {
      "text/plain": [
       "10"
      ]
     },
     "execution_count": 54,
     "metadata": {},
     "output_type": "execute_result"
    }
   ],
   "source": [
    "len(train)"
   ]
  },
  {
   "cell_type": "code",
   "execution_count": 55,
   "id": "9ebef0d4",
   "metadata": {},
   "outputs": [
    {
     "data": {
      "text/plain": [
       "3"
      ]
     },
     "execution_count": 55,
     "metadata": {},
     "output_type": "execute_result"
    }
   ],
   "source": [
    "len(train[0])"
   ]
  },
  {
   "cell_type": "code",
   "execution_count": 56,
   "id": "5f7251bb",
   "metadata": {},
   "outputs": [
    {
     "data": {
      "text/plain": [
       "[1.465489372, 2.759262235, 0]"
      ]
     },
     "execution_count": 56,
     "metadata": {},
     "output_type": "execute_result"
    }
   ],
   "source": [
    "random_codebook(train)"
   ]
  },
  {
   "cell_type": "code",
   "execution_count": 57,
   "id": "157d9ed5",
   "metadata": {},
   "outputs": [
    {
     "data": {
      "text/plain": [
       "[2.7810836, 2.550537003, 1]"
      ]
     },
     "execution_count": 57,
     "metadata": {},
     "output_type": "execute_result"
    }
   ],
   "source": [
    "random_codebook(train)"
   ]
  },
  {
   "cell_type": "markdown",
   "id": "22bb2cfa",
   "metadata": {},
   "source": [
    "Après que les vecteurs du codebook aient été initialisés à un ensemble aléatoire, ils doivent être adaptés pour continuer au mieux l'apprentissage.\n",
    "\n",
    "Ceci est fait de manière itérative.\n",
    "\n",
    "**Epochs** : Au niveau supérieur, le processus est répété pour un nombre fixe d'époques ou et être exposées à des données d'apprentissage.\n",
    "\n",
    "**Training Dataset** : Dans une époque, chaque modèle d'apprentissage est utilisé un par un pour mettre à jour l'ensemble des vecteurs du codebook.\n",
    "\n",
    "**Pattern Features** : Pour un modèle d'apprentissage donné, chaque caractéristique d'un vecteur du codebook correspondant le mieux est mise à jour pour le rapprocher ou l'éloigner.\n",
    "\n",
    "Une BMU est trouvée pour chaque modèle d'apprentissage et seule cette unité de meilleure correspondance est mise à jour. La différence entre le modèle d'apprentissage et l'unité de meilleure correspondance est calculée comme l'erreur. Les valeurs de classe (supposées être la dernière valeur de la liste) sont comparées. Si elles correspondent, l'erreur est ajoutée à la BMU pour la rapprocher du modèle d'apprentissage, sinon, elle est soustraite pour l'éloigner.\n",
    "\n",
    "La quantité d'ajustement de la BMU est contrôlée par un taux d'apprentissage. Il s'agit d'une pondération de la quantité de changements apportés à toutes les BMU. Par exemple, un taux d'apprentissage de 0,3 signifie que les BMU ne sont déplacées que de 30 % de l'erreur ou de la différence entre les modèles de formation et les BMU.\n",
    "\n",
    "En outre, le taux d'apprentissage est ajusté de manière à ce que son effet soit maximal lors de la première époque et diminue au fur et à mesure de la formation jusqu'à ce que son effet soit minimal lors de la dernière époque. C'est ce qu'on appelle un programme de taux d'apprentissage à décroissance linéaire, qui peut également être utilisé dans les réseaux neuronaux artificiels.\n",
    "\n",
    "Nous pouvons résumer cette décroissance du taux d'apprentissage par numéro d'époque comme suit :\n",
    "\n",
    "Nous pouvons tester cette équation en supposant un taux d'apprentissage de 0,3 et 10 époques. Le taux d'apprentissage à chaque époque serait le suivant :"
   ]
  },
  {
   "cell_type": "code",
   "execution_count": 58,
   "id": "87b1c4c1",
   "metadata": {},
   "outputs": [],
   "source": [
    "# Train a set of codebook vectors\n",
    "def train_codebooks(train, n_codebooks, lrate, epochs):\n",
    "\tcodebooks = [random_codebook(train) for i in range(n_codebooks)]\n",
    "\tfor epoch in range(epochs):\n",
    "\t\trate = lrate * (1.0-(epoch/float(epochs)))\n",
    "\t\tsum_error = 0.0\n",
    "\t\tfor row in train:\n",
    "\t\t\tbmu = get_best_matching_unit(codebooks, row)\n",
    "\t\t\tfor i in range(len(row)-1):\n",
    "\t\t\t\terror = row[i] - bmu[i]\n",
    "\t\t\t\tsum_error += error**2\n",
    "\t\t\t\tif bmu[-1] == row[-1]:\n",
    "\t\t\t\t\tbmu[i] += rate * error\n",
    "\t\t\t\telse:\n",
    "\t\t\t\t\tbmu[i] -= rate * error\n",
    "\t\tprint('>epoch=%d, lrate=%.3f, error=%.3f' % (epoch, rate, sum_error))\n",
    "\treturn codebooks"
   ]
  },
  {
   "cell_type": "code",
   "execution_count": 59,
   "id": "7cd6d915",
   "metadata": {},
   "outputs": [
    {
     "data": {
      "text/plain": [
       "0.1"
      ]
     },
     "execution_count": 59,
     "metadata": {},
     "output_type": "execute_result"
    }
   ],
   "source": [
    "1/float(10)"
   ]
  },
  {
   "cell_type": "code",
   "execution_count": 60,
   "id": "36b37834",
   "metadata": {},
   "outputs": [
    {
     "data": {
      "text/plain": [
       "0.2"
      ]
     },
     "execution_count": 60,
     "metadata": {},
     "output_type": "execute_result"
    }
   ],
   "source": [
    "2/float(10)"
   ]
  },
  {
   "cell_type": "code",
   "execution_count": 61,
   "id": "3837f859",
   "metadata": {},
   "outputs": [
    {
     "name": "stdout",
     "output_type": "stream",
     "text": [
      ">epoch=0, lrate=0.300, error=43.270\n",
      ">epoch=1, lrate=0.290, error=30.790\n",
      ">epoch=2, lrate=0.280, error=28.166\n",
      ">epoch=3, lrate=0.270, error=27.871\n",
      ">epoch=4, lrate=0.260, error=27.609\n",
      ">epoch=5, lrate=0.250, error=27.342\n",
      ">epoch=6, lrate=0.240, error=27.075\n",
      ">epoch=7, lrate=0.230, error=26.809\n",
      ">epoch=8, lrate=0.220, error=26.546\n",
      ">epoch=9, lrate=0.210, error=26.285\n",
      ">epoch=10, lrate=0.200, error=26.026\n",
      ">epoch=11, lrate=0.190, error=25.770\n",
      ">epoch=12, lrate=0.180, error=25.515\n",
      ">epoch=13, lrate=0.170, error=25.263\n",
      ">epoch=14, lrate=0.160, error=25.012\n",
      ">epoch=15, lrate=0.150, error=24.764\n",
      ">epoch=16, lrate=0.140, error=24.519\n",
      ">epoch=17, lrate=0.130, error=24.275\n",
      ">epoch=18, lrate=0.120, error=24.034\n",
      ">epoch=19, lrate=0.110, error=23.795\n",
      ">epoch=20, lrate=0.100, error=23.558\n",
      ">epoch=21, lrate=0.090, error=23.323\n",
      ">epoch=22, lrate=0.080, error=23.091\n",
      ">epoch=23, lrate=0.070, error=22.860\n",
      ">epoch=24, lrate=0.060, error=22.633\n",
      ">epoch=25, lrate=0.050, error=22.407\n",
      ">epoch=26, lrate=0.040, error=22.183\n",
      ">epoch=27, lrate=0.030, error=21.962\n",
      ">epoch=28, lrate=0.020, error=21.743\n",
      ">epoch=29, lrate=0.010, error=21.526\n",
      "Codebooks: [[2.425565107301352, 2.8374958898971916, 0], [7.287026386553242, 1.97061672135182, 1]]\n"
     ]
    }
   ],
   "source": [
    "# Test the training function\n",
    "seed(1)\n",
    "dataset = [[2.7810836,2.550537003,0],\n",
    "\t[1.465489372,2.362125076,0],\n",
    "\t[3.396561688,4.400293529,0],\n",
    "\t[1.38807019,1.850220317,0],\n",
    "\t[3.06407232,3.005305973,0],\n",
    "\t[7.627531214,2.759262235,1],\n",
    "\t[5.332441248,2.088626775,1],\n",
    "\t[6.922596716,1.77106367,1],\n",
    "\t[8.675418651,-0.242068655,1],\n",
    "\t[7.673756466,3.508563011,1]]\n",
    "learn_rate = 0.3\n",
    "n_epochs = 30\n",
    "n_codebooks = 2\n",
    "codebooks = train_codebooks(dataset, n_codebooks, learn_rate, n_epochs)\n",
    "print('Codebooks: %s' % codebooks)"
   ]
  },
  {
   "cell_type": "code",
   "execution_count": 62,
   "id": "6967fdcd",
   "metadata": {},
   "outputs": [
    {
     "data": {
      "text/plain": [
       "Text(0, 0.5, 'x2')"
      ]
     },
     "execution_count": 62,
     "metadata": {},
     "output_type": "execute_result"
    },
    {
     "data": {
      "image/png": "[encoded data removed]",
      "text/plain": [
       "<Figure size 432x288 with 1 Axes>"
      ]
     },
     "metadata": {
      "needs_background": "light"
     },
     "output_type": "display_data"
    }
   ],
   "source": [
    "from matplotlib import pyplot as plt\n",
    "%matplotlib inline\n",
    "\n",
    "colors = ['r','g','b']\n",
    "plt.scatter([i[0] for i in codebooks],[j[1] for j in codebooks],c='y')\n",
    "plt.scatter([i[0] for i in dataset],[j[1] for j in dataset],c=[colors[k[2]] for k in dataset])\n",
    "plt.title(\"scatter plot des deux classes et leurs prototypes\")\n",
    "plt.xlabel(\"x1\")\n",
    "plt.ylabel(\"x2\")"
   ]
  },
  {
   "cell_type": "code",
   "execution_count": 45,
   "id": "0890c27f",
   "metadata": {},
   "outputs": [
    {
     "data": {
      "text/plain": [
       "1.0"
      ]
     },
     "execution_count": 45,
     "metadata": {},
     "output_type": "execute_result"
    }
   ],
   "source": [
    "9/float(9)"
   ]
  },
  {
   "cell_type": "code",
   "execution_count": null,
   "id": "84b4382e",
   "metadata": {},
   "outputs": [],
   "source": []
  }
 ],
 "metadata": {
  "kernelspec": {
   "display_name": "Python 3 (ipykernel)",
   "language": "python",
   "name": "python3"
  },
  "language_info": {
   "codemirror_mode": {
    "name": "ipython",
    "version": 3
   },
   "file_extension": ".py",
   "mimetype": "text/x-python",
   "name": "python",
   "nbconvert_exporter": "python",
   "pygments_lexer": "ipython3",
   "version": "3.9.12"
  }
 },
 "nbformat": 4,
 "nbformat_minor": 5
}
